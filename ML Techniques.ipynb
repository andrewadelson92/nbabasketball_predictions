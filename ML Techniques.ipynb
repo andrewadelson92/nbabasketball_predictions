{
 "cells": [
  {
   "cell_type": "code",
   "execution_count": 20,
   "metadata": {
    "collapsed": true
   },
   "outputs": [],
   "source": [
    "import pandas as pd\n",
    "pd.options.display.max_columns = 999\n",
    "pd.options.display.max_rows= 999\n",
    "import seaborn as sns\n",
    "import matplotlib.pyplot as plt\n",
    "%matplotlib inline"
   ]
  },
  {
   "cell_type": "code",
   "execution_count": 39,
   "metadata": {
    "collapsed": true
   },
   "outputs": [],
   "source": [
    "data = pd.read_csv('Feature_Matrix_16-17.csv')\n",
    "data.drop('Unnamed: 0',axis=1,inplace=True)"
   ]
  },
  {
   "cell_type": "markdown",
   "metadata": {},
   "source": [
    "<h2> Difference between Vegas Prediction and Results </h2>\n",
    "Below is the distribution of the difference between the Vegas predictions for point spreads and the actual result from the game. Notice that it is approximately normally distributed with mean of 0.08 and a standard deviation of 12 points. This is the first red flag that this might be a difficult thing to try to beat."
   ]
  },
  {
   "cell_type": "code",
   "execution_count": 69,
   "metadata": {
    "collapsed": false
   },
   "outputs": [
    {
     "data": {
      "text/plain": [
       "<matplotlib.text.Text at 0x115600f10>"
      ]
     },
     "execution_count": 69,
     "metadata": {},
     "output_type": "execute_result"
    },
    {
     "data": {
      "image/png": "[encoded data removed]",
      "text/plain": [
       "<matplotlib.figure.Figure at 0x110f6e550>"
      ]
     },
     "metadata": {},
     "output_type": "display_data"
    }
   ],
   "source": [
    "fig = plt.figure()\n",
    "plt.hist(data['difference'],bins=35)\n",
    "plt.xlabel('2016 Difference between Vegas Prediction and Result')"
   ]
  },
  {
   "cell_type": "code",
   "execution_count": 49,
   "metadata": {
    "collapsed": false
   },
   "outputs": [
    {
     "name": "stdout",
     "output_type": "stream",
     "text": [
      "count    919.000000\n",
      "mean       0.087051\n",
      "std       12.301564\n",
      "min      -47.000000\n",
      "25%       -7.500000\n",
      "50%        0.000000\n",
      "75%        8.500000\n",
      "max       39.000000\n",
      "Name: difference, dtype: float64\n"
     ]
    }
   ],
   "source": [
    "print data['difference'].describe()"
   ]
  },
  {
   "cell_type": "code",
   "execution_count": 86,
   "metadata": {
    "collapsed": false
   },
   "outputs": [],
   "source": [
    "df = pd.read_csv('history_lines.csv')"
   ]
  },
  {
   "cell_type": "code",
   "execution_count": 87,
   "metadata": {
    "collapsed": false
   },
   "outputs": [],
   "source": [
    "df['difference'] = df['Home Closing Line'] -(df['Visitor Score']- df['Home Score'])"
   ]
  },
  {
   "cell_type": "code",
   "execution_count": 88,
   "metadata": {
    "collapsed": false
   },
   "outputs": [],
   "source": [
    "df = df.iloc[4:]"
   ]
  },
  {
   "cell_type": "code",
   "execution_count": 89,
   "metadata": {
    "collapsed": false
   },
   "outputs": [],
   "source": [
    "df['difference'] = df['difference']*-1"
   ]
  },
  {
   "cell_type": "code",
   "execution_count": 93,
   "metadata": {
    "collapsed": false
   },
   "outputs": [
    {
     "data": {
      "text/plain": [
       "<matplotlib.text.Text at 0x115dcbcd0>"
      ]
     },
     "execution_count": 93,
     "metadata": {},
     "output_type": "execute_result"
    },
    {
     "data": {
      "image/png": "[encoded data removed]",
      "text/plain": [
       "<matplotlib.figure.Figure at 0x115d51090>"
      ]
     },
     "metadata": {},
     "output_type": "display_data"
    }
   ],
   "source": [
    "plt.hist(diff['difference'],bins=30)\n",
    "plt.xlabel('2003-2016 Difference between Vegas Prediction and Result')"
   ]
  },
  {
   "cell_type": "code",
   "execution_count": 94,
   "metadata": {
    "collapsed": false
   },
   "outputs": [
    {
     "data": {
      "text/plain": [
       "count    19332.000000\n",
       "mean         0.127354\n",
       "std         11.747539\n",
       "min        -47.000000\n",
       "25%         -7.500000\n",
       "50%         -0.000000\n",
       "75%          7.500000\n",
       "max         60.000000\n",
       "Name: difference, dtype: float64"
      ]
     },
     "execution_count": 94,
     "metadata": {},
     "output_type": "execute_result"
    }
   ],
   "source": [
    "diff['difference'].describe()"
   ]
  },
  {
   "cell_type": "code",
   "execution_count": 117,
   "metadata": {
    "collapsed": false
   },
   "outputs": [],
   "source": [
    "def bet_home(row):\n",
    "    return row['result']<=row['vegas_closer_away']"
   ]
  },
  {
   "cell_type": "code",
   "execution_count": 145,
   "metadata": {
    "collapsed": true
   },
   "outputs": [],
   "source": [
    "data['bet_on_home_close'] = data.apply(bet_home,axis=1)"
   ]
  },
  {
   "cell_type": "code",
   "execution_count": 146,
   "metadata": {
    "collapsed": true
   },
   "outputs": [],
   "source": [
    "data = data[data['result']!=data['vegas_closer_away']]"
   ]
  },
  {
   "cell_type": "markdown",
   "metadata": {},
   "source": [
    "Below is the percentage of the time that the home team won."
   ]
  },
  {
   "cell_type": "code",
   "execution_count": 147,
   "metadata": {
    "collapsed": false
   },
   "outputs": [
    {
     "data": {
      "text/plain": [
       "0.50385038503850388"
      ]
     },
     "execution_count": 147,
     "metadata": {},
     "output_type": "execute_result"
    }
   ],
   "source": [
    "data['bet_on_home_close'].mean()"
   ]
  },
  {
   "cell_type": "code",
   "execution_count": 234,
   "metadata": {
    "collapsed": false
   },
   "outputs": [
    {
     "name": "stdout",
     "output_type": "stream",
     "text": [
      "['3P_home', '3P%_home', '3PA_home', 'DRB%_home', 'EFG%_home', 'FT_factor_home', 'ORB%_home', 'PPG_home', 'TOV%_home', '3P_away', '3P%_away', '3PA_away', 'DRB%_away', 'EFG%_away', 'FT_factor_away', 'ORB%_away', 'PPG_away', 'TOV%_away']\n"
     ]
    }
   ],
   "source": [
    "features = ['3P_home', '3P%_home', '3PA_home','DRB%_home', 'EFG%_home',\n",
    "       'FT_factor_home', 'ORB%_home', 'PPG_home', 'TOV%_home','3P_away', '3P%_away', '3PA_away', 'DRB%_away', 'EFG%_away',\n",
    "       'FT_factor_away', 'ORB%_away', 'PPG_away', 'TOV%_away']\n",
    "label = 'bet_on_home_close'\n",
    "print features"
   ]
  },
  {
   "cell_type": "code",
   "execution_count": 235,
   "metadata": {
    "collapsed": false
   },
   "outputs": [],
   "source": [
    "##all of the models I will try out\n",
    "from sklearn.model_selection import train_test_split, RandomizedSearchCV\n",
    "from sklearn.linear_model import Lasso,Ridge,LinearRegression,LogisticRegression\n",
    "from sklearn.metrics import accuracy_score,r2_score\n",
    "from sklearn.tree import DecisionTreeClassifier\n",
    "from sklearn.neighbors import KNeighborsClassifier\n",
    "import numpy as np\n",
    "from sklearn.preprocessing import StandardScaler\n",
    "from sklearn.ensemble import BaggingClassifier,RandomForestClassifier\n",
    "from sklearn.svm import SVC"
   ]
  },
  {
   "cell_type": "code",
   "execution_count": 236,
   "metadata": {
    "collapsed": true
   },
   "outputs": [],
   "source": [
    "X=data[features]\n",
    "y = data[label]"
   ]
  },
  {
   "cell_type": "code",
   "execution_count": 237,
   "metadata": {
    "collapsed": false
   },
   "outputs": [],
   "source": [
    "#make sure to scale the features so that they all have the same mean and standard deviation.\n",
    "#This is necessary for a model like K Nearest Neighbors\n",
    "\n",
    "ss= StandardScaler()\n",
    "scaled_x = ss.fit_transform(X)"
   ]
  },
  {
   "cell_type": "code",
   "execution_count": 239,
   "metadata": {
    "collapsed": false
   },
   "outputs": [
    {
     "data": {
      "text/plain": [
       "0.50253025302530263"
      ]
     },
     "execution_count": 239,
     "metadata": {},
     "output_type": "execute_result"
    }
   ],
   "source": [
    "scores = []\n",
    "for i in range(20):\n",
    "    model = LogisticRegression()\n",
    "    params = {\n",
    "        'C':np.logspace(-3,3,100),\n",
    "        'penalty':['l1','l2'],\n",
    "        'fit_intercept':[False,True]\n",
    "    }\n",
    "    rs = RandomizedSearchCV(model,cv=6,param_distributions=params)\n",
    "    rs.fit(scaled_x,y)\n",
    "    scores.append(rs.best_score_)\n",
    "np.array(scores).mean()"
   ]
  },
  {
   "cell_type": "code",
   "execution_count": 240,
   "metadata": {
    "collapsed": false
   },
   "outputs": [
    {
     "data": {
      "text/plain": [
       "0.51650165016501659"
      ]
     },
     "execution_count": 240,
     "metadata": {},
     "output_type": "execute_result"
    }
   ],
   "source": [
    "scores = []\n",
    "for i in range(20):\n",
    "    model = DecisionTreeClassifier()\n",
    "    params = {\n",
    "        'criterion':['gini','entropy'],\n",
    "        'max_features':[3,4,5,6,7,8],\n",
    "        'max_depth':[4,5,6,7,8,9],\n",
    "        'min_samples_split':[4,5,6,7,8,9,10,11,12],\n",
    "        'min_samples_leaf':[3,4,5,6,7,8]\n",
    "    }\n",
    "    rs = RandomizedSearchCV(model,cv=6,param_distributions=params)\n",
    "    rs.fit(scaled_x,y)\n",
    "    scores.append(rs.best_score_)\n",
    "np.array(scores).mean()"
   ]
  },
  {
   "cell_type": "code",
   "execution_count": 176,
   "metadata": {
    "collapsed": false
   },
   "outputs": [
    {
     "data": {
      "text/plain": [
       "0.5036303630363036"
      ]
     },
     "execution_count": 176,
     "metadata": {},
     "output_type": "execute_result"
    }
   ],
   "source": [
    "scores = []\n",
    "for i in range(20):\n",
    "    model = KNeighborsClassifier()\n",
    "    params = {\n",
    "        'n_neighbors':range(5,40),\n",
    "        'weights':['uniform','distance'],\n",
    "        'algorithm':['auto','ball_tree','kd_tree'],\n",
    "        'metric':['minkowski','manhattan','euclidean']\n",
    "    }\n",
    "    rs = RandomizedSearchCV(model,cv=6,param_distributions=params)\n",
    "    rs.fit(scaled_x,y)\n",
    "    scores.append(rs.best_score_)\n",
    "np.array(scores).mean()"
   ]
  },
  {
   "cell_type": "code",
   "execution_count": 243,
   "metadata": {
    "collapsed": false
   },
   "outputs": [
    {
     "data": {
      "text/plain": [
       "0.52035203520352036"
      ]
     },
     "execution_count": 243,
     "metadata": {},
     "output_type": "execute_result"
    }
   ],
   "source": [
    "\n",
    "model = RandomForestClassifier()\n",
    "params = {\n",
    "    'n_estimators':[90,100,150,200,300],\n",
    "    'criterion':['gini','entropy'],\n",
    "    'max_features':['auto','log2',3,4,7,6],\n",
    "    'max_depth':[4,5,6,7],\n",
    "    'min_samples_split':[3,4,5]\n",
    "}\n",
    "rs = RandomizedSearchCV(model,cv=6,param_distributions=params)\n",
    "rs.fit(X_pca,y)\n",
    "rs.best_score_\n",
    "\n"
   ]
  },
  {
   "cell_type": "code",
   "execution_count": 244,
   "metadata": {
    "collapsed": false
   },
   "outputs": [
    {
     "data": {
      "text/plain": [
       "{'criterion': 'entropy',\n",
       " 'max_depth': 6,\n",
       " 'max_features': 3,\n",
       " 'min_samples_split': 4,\n",
       " 'n_estimators': 300}"
      ]
     },
     "execution_count": 244,
     "metadata": {},
     "output_type": "execute_result"
    }
   ],
   "source": [
    "rs.best_params_"
   ]
  },
  {
   "cell_type": "code",
   "execution_count": 196,
   "metadata": {
    "collapsed": false
   },
   "outputs": [
    {
     "data": {
      "text/plain": [
       "0.51903190319031911"
      ]
     },
     "execution_count": 196,
     "metadata": {},
     "output_type": "execute_result"
    }
   ],
   "source": [
    "scores = []\n",
    "for i in range(10):\n",
    "    model = SVC()\n",
    "    params = {\n",
    "        'C':[.1,.5,1,1.3,2,4,7],\n",
    "        'kernel':['linear', 'poly', 'rbf', 'sigmoid'],\n",
    "        'degree':[1,2,3,4]\n",
    "    }\n",
    "    rs = RandomizedSearchCV(model,cv=6,param_distributions=params)\n",
    "    rs.fit(scaled_x,y)\n",
    "    scores.append(rs.best_score_)\n",
    "np.array(scores).mean()\n"
   ]
  },
  {
   "cell_type": "code",
   "execution_count": 214,
   "metadata": {
    "collapsed": false
   },
   "outputs": [
    {
     "data": {
      "text/plain": [
       "0.52101210121012098"
      ]
     },
     "execution_count": 214,
     "metadata": {},
     "output_type": "execute_result"
    }
   ],
   "source": [
    "scores = []\n",
    "for i in range(10):\n",
    "    model = DecisionTreeClassifier()\n",
    "    params = {\n",
    "        'criterion':['gini','entropy'],\n",
    "        'max_features':[3,4,5,6,7,8],\n",
    "        'max_depth':[4,5,6,7,8,9],\n",
    "        'min_samples_split':[4,5,6,7,8,9,10,11,12],\n",
    "        'min_samples_leaf':[3,4,5,6,7,8]\n",
    "    }\n",
    "    rs = RandomizedSearchCV(model,cv=6,param_distributions=params)\n",
    "    rs.fit(scaled_x,y)\n",
    "    scores.append(rs.best_score_)\n",
    "np.array(scores).mean()"
   ]
  },
  {
   "cell_type": "code",
   "execution_count": 197,
   "metadata": {
    "collapsed": false
   },
   "outputs": [
    {
     "data": {
      "text/plain": [
       "{'C': 1, 'degree': 1, 'kernel': 'poly'}"
      ]
     },
     "execution_count": 197,
     "metadata": {},
     "output_type": "execute_result"
    }
   ],
   "source": [
    "rs.best_params_"
   ]
  },
  {
   "cell_type": "code",
   "execution_count": 185,
   "metadata": {
    "collapsed": false
   },
   "outputs": [
    {
     "data": {
      "text/plain": [
       "array(['3P_home', '3P%_home', '3PA_home', 'DRB%_home', 'EFG%_home',\n",
       "       'FT_factor_home', 'ORB%_home', 'PPG_home', 'TOV%_home', 'game_Id',\n",
       "       'opp_3P_home', 'opp_3P%_home', 'opp_3PA_home', 'opp_DRB%_home',\n",
       "       'opp_EFG%_home', 'opp_FT_factor_home', 'opp_ORB%_home',\n",
       "       'opp_PPG_home', 'opp_TOV%_home', 'team_home', 'win_percent_home',\n",
       "       'line_id_home', 'Days_Since_home', 'team_location_home',\n",
       "       'team_time_zone_home', 'last_loc_home',\n",
       "       'distance_From_Last_Game_home', 'last_time_zone_home',\n",
       "       'time_zone_diff_From_last_home', 'played_last_night_home',\n",
       "       'played_road_last_night_home', 'played_diff_loc_last_night_home',\n",
       "       '3P_away', '3P%_away', '3PA_away', 'DRB%_away', 'EFG%_away',\n",
       "       'FT_factor_away', 'ORB%_away', 'PPG_away', 'TOV%_away',\n",
       "       'bet_on_home_close', 'bet_on_home_open', 'opp_3P_away',\n",
       "       'opp_3P%_away', 'opp_3PA_away', 'opp_DRB%_away', 'opp_EFG%_away',\n",
       "       'opp_FT_factor_away', 'opp_ORB%_away', 'opp_PPG_away',\n",
       "       'opp_TOV%_away', 'result', 'team_away', 'vegas_closer_away',\n",
       "       'vegas_opener_away', 'win_percent_away', 'line_id_away',\n",
       "       'Days_Since_away', 'game_Location_away', 'team_location_away',\n",
       "       'distance_From_Home_away', 'game_time_zone_away',\n",
       "       'team_time_zone_away', 'time_zone_diff_From_home_away',\n",
       "       'last_loc_away', 'distance_From_Last_Game_away',\n",
       "       'last_time_zone_away', 'time_zone_diff_From_last_away',\n",
       "       'played_last_night_away', 'played_road_last_night_away',\n",
       "       'played_diff_loc_last_night_away', 'altitude_away', 'difference'], dtype=object)"
      ]
     },
     "execution_count": 185,
     "metadata": {},
     "output_type": "execute_result"
    }
   ],
   "source": [
    "data.columns.values"
   ]
  },
  {
   "cell_type": "code",
   "execution_count": 191,
   "metadata": {
    "collapsed": true
   },
   "outputs": [],
   "source": [
    "features = ['3P_home', '3P%_home', '3PA_home', 'DRB%_home', 'EFG%_home',\n",
    "       'FT_factor_home', 'ORB%_home', 'PPG_home', 'TOV%_home','opp_3P_home', 'opp_3P%_home', 'opp_3PA_home', 'opp_DRB%_home',\n",
    "       'opp_EFG%_home', 'opp_FT_factor_home', 'opp_ORB%_home',\n",
    "       'opp_PPG_home', 'opp_TOV%_home', 'win_percent_home','Days_Since_home','played_road_last_night_home', 'played_diff_loc_last_night_home',\n",
    "        '3P_away', '3P%_away', '3PA_away', 'DRB%_away', 'EFG%_away',\n",
    "       'FT_factor_away', 'ORB%_away', 'PPG_away', 'TOV%_away','opp_3P_away',\n",
    "       'opp_3P%_away', 'opp_3PA_away', 'opp_DRB%_away', 'opp_EFG%_away',\n",
    "       'opp_FT_factor_away', 'opp_ORB%_away', 'opp_PPG_away',\n",
    "       'opp_TOV%_away','win_percent_away','Days_Since_away','distance_From_Last_Game_home','played_road_last_night_away',\n",
    "       'played_diff_loc_last_night_away']\n",
    "label = 'bet_on_home_close'"
   ]
  },
  {
   "cell_type": "code",
   "execution_count": 192,
   "metadata": {
    "collapsed": false
   },
   "outputs": [],
   "source": [
    "scaled_features = ss.fit_transform(data[features])"
   ]
  },
  {
   "cell_type": "code",
   "execution_count": 198,
   "metadata": {
    "collapsed": true
   },
   "outputs": [],
   "source": [
    "from sklearn.decomposition import PCA"
   ]
  },
  {
   "cell_type": "code",
   "execution_count": 208,
   "metadata": {
    "collapsed": true
   },
   "outputs": [],
   "source": [
    "pca = PCA(n_components=25)"
   ]
  },
  {
   "cell_type": "code",
   "execution_count": 209,
   "metadata": {
    "collapsed": true
   },
   "outputs": [],
   "source": [
    "X_pca = pca.fit_transform(scaled_features)"
   ]
  },
  {
   "cell_type": "code",
   "execution_count": 210,
   "metadata": {
    "collapsed": false
   },
   "outputs": [
    {
     "data": {
      "text/plain": [
       "[<matplotlib.lines.Line2D at 0x1168f7550>]"
      ]
     },
     "execution_count": 210,
     "metadata": {},
     "output_type": "execute_result"
    },
    {
     "data": {
      "image/png": "[encoded data removed]",
      "text/plain": [
       "<matplotlib.figure.Figure at 0x10d9ac050>"
      ]
     },
     "metadata": {},
     "output_type": "display_data"
    }
   ],
   "source": [
    "plt.plot(np.cumsum(pca.explained_variance_ratio_))"
   ]
  },
  {
   "cell_type": "code",
   "execution_count": 229,
   "metadata": {
    "collapsed": false
   },
   "outputs": [
    {
     "data": {
      "text/plain": [
       "0.519031903190319"
      ]
     },
     "execution_count": 229,
     "metadata": {},
     "output_type": "execute_result"
    }
   ],
   "source": [
    "scores = []\n",
    "for i in range(10):\n",
    "    model = SVC()\n",
    "    params = {\n",
    "        'C':[.1,.5,1,1.3,2,4,7],\n",
    "        'kernel':['linear', 'poly', 'rbf', 'sigmoid'],\n",
    "        'degree':[1,2,3,4]\n",
    "    }\n",
    "    rs = RandomizedSearchCV(model,cv=6,param_distributions=params)\n",
    "    rs.fit(X_pca,y)\n",
    "    scores.append(rs.best_score_)\n",
    "np.array(scores).mean()"
   ]
  },
  {
   "cell_type": "markdown",
   "metadata": {},
   "source": [
    "Isolating certain features to see if any one statistic is a good predictor for which side of the line to bet "
   ]
  },
  {
   "cell_type": "code",
   "execution_count": 221,
   "metadata": {
    "collapsed": false
   },
   "outputs": [
    {
     "data": {
      "text/plain": [
       "0.5011037527593819"
      ]
     },
     "execution_count": 221,
     "metadata": {},
     "output_type": "execute_result"
    }
   ],
   "source": [
    "data[(data['EFG%_home']>data['EFG%_away'])]['bet_on_home_close'].mean()"
   ]
  },
  {
   "cell_type": "code",
   "execution_count": 222,
   "metadata": {
    "collapsed": false
   },
   "outputs": [
    {
     "data": {
      "text/plain": [
       "0.50657894736842102"
      ]
     },
     "execution_count": 222,
     "metadata": {},
     "output_type": "execute_result"
    }
   ],
   "source": [
    "data[(data['DRB%_home']>data['DRB%_away'])]['bet_on_home_close'].mean()"
   ]
  },
  {
   "cell_type": "code",
   "execution_count": 223,
   "metadata": {
    "collapsed": false
   },
   "outputs": [
    {
     "data": {
      "text/plain": [
       "0.49099099099099097"
      ]
     },
     "execution_count": 223,
     "metadata": {},
     "output_type": "execute_result"
    }
   ],
   "source": [
    "data[(data['win_percent_home']>data['win_percent_away'])]['bet_on_home_close'].mean()"
   ]
  },
  {
   "cell_type": "code",
   "execution_count": 224,
   "metadata": {
    "collapsed": false
   },
   "outputs": [
    {
     "data": {
      "text/plain": [
       "0.48478260869565215"
      ]
     },
     "execution_count": 224,
     "metadata": {},
     "output_type": "execute_result"
    }
   ],
   "source": [
    "data[(data['FT_factor_home']>data['FT_factor_away'])]['bet_on_home_close'].mean()"
   ]
  },
  {
   "cell_type": "code",
   "execution_count": 225,
   "metadata": {
    "collapsed": false
   },
   "outputs": [
    {
     "data": {
      "text/plain": [
       "0.52000000000000002"
      ]
     },
     "execution_count": 225,
     "metadata": {},
     "output_type": "execute_result"
    }
   ],
   "source": [
    "data[(data['3PA_home']>data['3PA_away'])]['bet_on_home_close'].mean()"
   ]
  },
  {
   "cell_type": "code",
   "execution_count": 226,
   "metadata": {
    "collapsed": false
   },
   "outputs": [
    {
     "data": {
      "text/plain": [
       "0.4988962472406181"
      ]
     },
     "execution_count": 226,
     "metadata": {},
     "output_type": "execute_result"
    }
   ],
   "source": [
    "data[(data['3P_home']>data['3P_away'])]['bet_on_home_close'].mean()"
   ]
  },
  {
   "cell_type": "code",
   "execution_count": 228,
   "metadata": {
    "collapsed": false
   },
   "outputs": [
    {
     "data": {
      "text/plain": [
       "0.49892473118279568"
      ]
     },
     "execution_count": 228,
     "metadata": {},
     "output_type": "execute_result"
    }
   ],
   "source": [
    "data[(data['3P%_home']>data['3P%_away'])]['bet_on_home_close'].mean()"
   ]
  },
  {
   "cell_type": "markdown",
   "metadata": {},
   "source": [
    "What about just betting the favorite?"
   ]
  },
  {
   "cell_type": "code",
   "execution_count": 255,
   "metadata": {
    "collapsed": true
   },
   "outputs": [],
   "source": [
    "import math"
   ]
  },
  {
   "cell_type": "code",
   "execution_count": 259,
   "metadata": {
    "collapsed": false
   },
   "outputs": [],
   "source": [
    "def fav_win(row):\n",
    "    if row['result']<0 and row['vegas_closer_away']>=0:\n",
    "        return 0\n",
    "    elif row['result']>0 and row['vegas_closer_away']<=0:\n",
    "        return 0\n",
    "    else:\n",
    "        return math.fabs(row['result'])>math.fabs(row['vegas_closer_away'])"
   ]
  },
  {
   "cell_type": "code",
   "execution_count": 260,
   "metadata": {
    "collapsed": false
   },
   "outputs": [
    {
     "name": "stderr",
     "output_type": "stream",
     "text": [
      "/Users/andrewadelson/anaconda/lib/python2.7/site-packages/ipykernel/__main__.py:2: SettingWithCopyWarning: \n",
      "A value is trying to be set on a copy of a slice from a DataFrame.\n",
      "Try using .loc[row_indexer,col_indexer] = value instead\n",
      "\n",
      "See the caveats in the documentation: http://pandas.pydata.org/pandas-docs/stable/indexing.html#indexing-view-versus-copy\n",
      "  from ipykernel import kernelapp as app\n"
     ]
    }
   ],
   "source": [
    "x= data[['result','vegas_closer_away']]\n",
    "x['fav'] = x.apply(fav_win,axis=1)"
   ]
  },
  {
   "cell_type": "markdown",
   "metadata": {},
   "source": [
    "It appears in the 2016-2017 NBA Season if you predicted the underdog to beat the line, then you would be correct 52.3% of the time, just often enough to come close to break even given the Vegas vig"
   ]
  },
  {
   "cell_type": "code",
   "execution_count": 262,
   "metadata": {
    "collapsed": false
   },
   "outputs": [
    {
     "data": {
      "text/plain": [
       "0.47634763476347636"
      ]
     },
     "execution_count": 262,
     "metadata": {},
     "output_type": "execute_result"
    }
   ],
   "source": [
    "x['fav'].mean()"
   ]
  },
  {
   "cell_type": "code",
   "execution_count": null,
   "metadata": {
    "collapsed": true
   },
   "outputs": [],
   "source": []
  }
 ],
 "metadata": {
  "kernelspec": {
   "display_name": "Python 2",
   "language": "python",
   "name": "python2"
  },
  "language_info": {
   "codemirror_mode": {
    "name": "ipython",
    "version": 2
   },
   "file_extension": ".py",
   "mimetype": "text/x-python",
   "name": "python",
   "nbconvert_exporter": "python",
   "pygments_lexer": "ipython2",
   "version": "2.7.13"
  }
 },
 "nbformat": 4,
 "nbformat_minor": 2
}
