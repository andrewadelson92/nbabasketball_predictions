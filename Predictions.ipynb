{
 "cells": [
  {
   "cell_type": "code",
   "execution_count": 1,
   "metadata": {
    "collapsed": false
   },
   "outputs": [],
   "source": [
    "import pandas as pd"
   ]
  },
  {
   "cell_type": "code",
   "execution_count": 2,
   "metadata": {
    "collapsed": false
   },
   "outputs": [],
   "source": [
    "##read in all the player data for the 2016-2017 NBA regular season\n",
    "oct_data = pd.read_csv('Oct_2016_NBA.csv')\n",
    "\n",
    "nov_data = pd.read_table('Nov_2016_NBA',sep=',')\n",
    "\n",
    "dec_data = pd.read_csv('Dec_2016_NBA.csv')\n",
    "\n",
    "jan_data = pd.read_csv('Jan_2017_NBA.csv')\n",
    "\n",
    "feb_data = pd.read_csv('Feb_2017_NBA.csv')\n",
    "\n",
    "mar_data = pd.read_csv('Mar_2017_NBA.csv')\n",
    "apr_data = pd.read_csv('Apr_2017_NBA.csv')"
   ]
  },
  {
   "cell_type": "code",
   "execution_count": 3,
   "metadata": {
    "collapsed": true
   },
   "outputs": [],
   "source": [
    "##concatenate all the data into one big frame\n",
    "total_data = pd.concat([oct_data,nov_data,dec_data,jan_data,feb_data,mar_data,apr_data])"
   ]
  },
  {
   "cell_type": "code",
   "execution_count": 19,
   "metadata": {
    "collapsed": false
   },
   "outputs": [],
   "source": [
    "df = pd.read_csv('nba_player_data_2014.csv')\n",
    "df = df.iloc[0:31406]\n",
    "total_data = df"
   ]
  },
  {
   "cell_type": "code",
   "execution_count": 17,
   "metadata": {
    "collapsed": false
   },
   "outputs": [
    {
     "data": {
      "text/plain": [
       "+/1                                     16\n",
       "3P                                       2\n",
       "3PA                                      3\n",
       "AST                                      5\n",
       "BLK                                      0\n",
       "Date                            10/28/2014\n",
       "FG                                       2\n",
       "FGA                                      6\n",
       "FT                                       3\n",
       "FTA                                      6\n",
       "Game_Id       10/28/2014_LA Lakers_Houston\n",
       "ORB                                      1\n",
       "Opponent                         LA Lakers\n",
       "PF                                       3\n",
       "PTS                                      9\n",
       "STL                                      0\n",
       "TOV                                      2\n",
       "TRB                                      5\n",
       "Team                               Houston\n",
       "minutes                              30:55\n",
       "name                      Patrick Beverley\n",
       "opp_score                               90\n",
       "result                              winner\n",
       "started                               True\n",
       "team_score                             108\n",
       "Name: 0, dtype: object"
      ]
     },
     "execution_count": 17,
     "metadata": {},
     "output_type": "execute_result"
    }
   ],
   "source": [
    "df.iloc[0]"
   ]
  },
  {
   "cell_type": "code",
   "execution_count": 20,
   "metadata": {
    "collapsed": true
   },
   "outputs": [],
   "source": [
    "##drop unnecessary column\n",
    "total_data.drop('Unnamed: 0',axis=1,inplace=True)"
   ]
  },
  {
   "cell_type": "code",
   "execution_count": 21,
   "metadata": {
    "collapsed": false
   },
   "outputs": [],
   "source": [
    "##convert to numpy array to create features I need\n",
    "array = total_data.as_matrix()\n"
   ]
  },
  {
   "cell_type": "code",
   "execution_count": 22,
   "metadata": {
    "collapsed": false
   },
   "outputs": [],
   "source": [
    "##this corrected my game ids. I scraped incorrectly.\n",
    "##I had both '10/25/2016_Cleveland_New York' and '10/25/2016_New York_Cleveland'\n",
    "ids = '10/28/2014_LA Lakers_Houston'\n",
    "sets = ['10/28/2014','La Lakers','Houston']\n",
    "for i in range(len(array)):\n",
    "    set_row = array[i][10].split('_')\n",
    "    if set(set_row)==set(sets):\n",
    "        array[i][10] = ids\n",
    "    else:\n",
    "        sets = set(set_row)\n",
    "        ids = array[i][10]"
   ]
  },
  {
   "cell_type": "code",
   "execution_count": 23,
   "metadata": {
    "collapsed": false
   },
   "outputs": [],
   "source": [
    "##convert back into a pandas dataframe\n",
    "total_data = pd.DataFrame(array,columns=total_data.columns)\n",
    "        "
   ]
  },
  {
   "cell_type": "code",
   "execution_count": 24,
   "metadata": {
    "collapsed": false
   },
   "outputs": [],
   "source": [
    "##create a is_home feature\n",
    "def home(row):\n",
    "    return row['Game_Id'].split('_')[1]\n",
    "total_data['Home_team'] = total_data.apply(home,axis=1)\n",
    "total_data['is_Home']=total_data['Home_team'] ==total_data['Team']\n",
    "total_data.drop('Home_team',axis=1,inplace=True)"
   ]
  },
  {
   "cell_type": "code",
   "execution_count": 25,
   "metadata": {
    "collapsed": false
   },
   "outputs": [],
   "source": [
    "##convert result column to a boolean Team_Win\n",
    "total_data['Team_Win'] = total_data['result'].map({'loser':0,'winner':1})\n",
    "total_data.drop('result',axis=1, inplace=True)"
   ]
  },
  {
   "cell_type": "code",
   "execution_count": 26,
   "metadata": {
    "collapsed": false
   },
   "outputs": [],
   "source": [
    "##convert other booleans to ints\n",
    "total_data['started']= total_data['started'].apply(int)\n",
    "total_data['is_Home']= total_data['is_Home'].apply(int)"
   ]
  },
  {
   "cell_type": "code",
   "execution_count": 27,
   "metadata": {
    "collapsed": false
   },
   "outputs": [],
   "source": [
    "##export the resulting data to a csv file\n",
    "total_data.to_csv('NNba_player_data_2014.csv')"
   ]
  },
  {
   "cell_type": "code",
   "execution_count": null,
   "metadata": {
    "collapsed": true
   },
   "outputs": [],
   "source": []
  }
 ],
 "metadata": {
  "kernelspec": {
   "display_name": "Python 2",
   "language": "python",
   "name": "python2"
  },
  "language_info": {
   "codemirror_mode": {
    "name": "ipython",
    "version": 2
   },
   "file_extension": ".py",
   "mimetype": "text/x-python",
   "name": "python",
   "nbconvert_exporter": "python",
   "pygments_lexer": "ipython2",
   "version": "2.7.13"
  }
 },
 "nbformat": 4,
 "nbformat_minor": 2
}
