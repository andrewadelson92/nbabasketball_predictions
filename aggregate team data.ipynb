{
 "cells": [
  {
   "cell_type": "code",
   "execution_count": 176,
   "metadata": {
    "collapsed": true
   },
   "outputs": [],
   "source": [
    "import pandas as pd"
   ]
  },
  {
   "cell_type": "code",
   "execution_count": 215,
   "metadata": {
    "collapsed": true
   },
   "outputs": [],
   "source": [
    "df = pd.read_csv('nba_player_data_2015.csv')"
   ]
  },
  {
   "cell_type": "code",
   "execution_count": 217,
   "metadata": {
    "collapsed": false
   },
   "outputs": [],
   "source": [
    "df.drop('Unnamed: 0', axis=1, inplace=True)"
   ]
  },
  {
   "cell_type": "code",
   "execution_count": 218,
   "metadata": {
    "collapsed": false
   },
   "outputs": [
    {
     "data": {
      "text/html": [
       "<div>\n",
       "<table border=\"1\" class=\"dataframe\">\n",
       "  <thead>\n",
       "    <tr style=\"text-align: right;\">\n",
       "      <th></th>\n",
       "      <th>+/1</th>\n",
       "      <th>3P</th>\n",
       "      <th>3PA</th>\n",
       "      <th>AST</th>\n",
       "      <th>BLK</th>\n",
       "      <th>Date</th>\n",
       "      <th>FG</th>\n",
       "      <th>FGA</th>\n",
       "      <th>FT</th>\n",
       "      <th>FTA</th>\n",
       "      <th>...</th>\n",
       "      <th>TOV</th>\n",
       "      <th>TRB</th>\n",
       "      <th>Team</th>\n",
       "      <th>minutes</th>\n",
       "      <th>name</th>\n",
       "      <th>opp_score</th>\n",
       "      <th>started</th>\n",
       "      <th>team_score</th>\n",
       "      <th>is_Home</th>\n",
       "      <th>Team_Win</th>\n",
       "    </tr>\n",
       "  </thead>\n",
       "  <tbody>\n",
       "    <tr>\n",
       "      <th>0</th>\n",
       "      <td>23.0</td>\n",
       "      <td>0.0</td>\n",
       "      <td>0.0</td>\n",
       "      <td>3.0</td>\n",
       "      <td>2.0</td>\n",
       "      <td>10/27/2015</td>\n",
       "      <td>6.0</td>\n",
       "      <td>16.0</td>\n",
       "      <td>6.0</td>\n",
       "      <td>10.0</td>\n",
       "      <td>...</td>\n",
       "      <td>2.0</td>\n",
       "      <td>19.0</td>\n",
       "      <td>Detroit</td>\n",
       "      <td>37:09</td>\n",
       "      <td>Andre Drummond</td>\n",
       "      <td>94</td>\n",
       "      <td>1</td>\n",
       "      <td>106</td>\n",
       "      <td>0</td>\n",
       "      <td>1</td>\n",
       "    </tr>\n",
       "    <tr>\n",
       "      <th>1</th>\n",
       "      <td>17.0</td>\n",
       "      <td>1.0</td>\n",
       "      <td>4.0</td>\n",
       "      <td>4.0</td>\n",
       "      <td>0.0</td>\n",
       "      <td>10/27/2015</td>\n",
       "      <td>6.0</td>\n",
       "      <td>19.0</td>\n",
       "      <td>5.0</td>\n",
       "      <td>6.0</td>\n",
       "      <td>...</td>\n",
       "      <td>0.0</td>\n",
       "      <td>10.0</td>\n",
       "      <td>Detroit</td>\n",
       "      <td>37:05</td>\n",
       "      <td>Marcus Morris</td>\n",
       "      <td>94</td>\n",
       "      <td>1</td>\n",
       "      <td>106</td>\n",
       "      <td>0</td>\n",
       "      <td>1</td>\n",
       "    </tr>\n",
       "    <tr>\n",
       "      <th>2</th>\n",
       "      <td>17.0</td>\n",
       "      <td>4.0</td>\n",
       "      <td>7.0</td>\n",
       "      <td>1.0</td>\n",
       "      <td>0.0</td>\n",
       "      <td>10/27/2015</td>\n",
       "      <td>7.0</td>\n",
       "      <td>14.0</td>\n",
       "      <td>3.0</td>\n",
       "      <td>3.0</td>\n",
       "      <td>...</td>\n",
       "      <td>2.0</td>\n",
       "      <td>4.0</td>\n",
       "      <td>Detroit</td>\n",
       "      <td>37:03</td>\n",
       "      <td>Kentavious Caldwell-Pope</td>\n",
       "      <td>94</td>\n",
       "      <td>1</td>\n",
       "      <td>106</td>\n",
       "      <td>0</td>\n",
       "      <td>1</td>\n",
       "    </tr>\n",
       "    <tr>\n",
       "      <th>3</th>\n",
       "      <td>20.0</td>\n",
       "      <td>3.0</td>\n",
       "      <td>6.0</td>\n",
       "      <td>3.0</td>\n",
       "      <td>1.0</td>\n",
       "      <td>10/27/2015</td>\n",
       "      <td>6.0</td>\n",
       "      <td>12.0</td>\n",
       "      <td>1.0</td>\n",
       "      <td>2.0</td>\n",
       "      <td>...</td>\n",
       "      <td>3.0</td>\n",
       "      <td>7.0</td>\n",
       "      <td>Detroit</td>\n",
       "      <td>34:26</td>\n",
       "      <td>Ersan Ilyasova</td>\n",
       "      <td>94</td>\n",
       "      <td>1</td>\n",
       "      <td>106</td>\n",
       "      <td>0</td>\n",
       "      <td>1</td>\n",
       "    </tr>\n",
       "    <tr>\n",
       "      <th>4</th>\n",
       "      <td>26.0</td>\n",
       "      <td>2.0</td>\n",
       "      <td>4.0</td>\n",
       "      <td>5.0</td>\n",
       "      <td>0.0</td>\n",
       "      <td>10/27/2015</td>\n",
       "      <td>4.0</td>\n",
       "      <td>10.0</td>\n",
       "      <td>5.0</td>\n",
       "      <td>5.0</td>\n",
       "      <td>...</td>\n",
       "      <td>2.0</td>\n",
       "      <td>8.0</td>\n",
       "      <td>Detroit</td>\n",
       "      <td>32:07</td>\n",
       "      <td>Reggie Jackson</td>\n",
       "      <td>94</td>\n",
       "      <td>1</td>\n",
       "      <td>106</td>\n",
       "      <td>0</td>\n",
       "      <td>1</td>\n",
       "    </tr>\n",
       "  </tbody>\n",
       "</table>\n",
       "<p>5 rows × 26 columns</p>\n",
       "</div>"
      ],
      "text/plain": [
       "    +/1   3P  3PA  AST  BLK        Date   FG   FGA   FT   FTA   ...     TOV  \\\n",
       "0  23.0  0.0  0.0  3.0  2.0  10/27/2015  6.0  16.0  6.0  10.0   ...     2.0   \n",
       "1  17.0  1.0  4.0  4.0  0.0  10/27/2015  6.0  19.0  5.0   6.0   ...     0.0   \n",
       "2  17.0  4.0  7.0  1.0  0.0  10/27/2015  7.0  14.0  3.0   3.0   ...     2.0   \n",
       "3  20.0  3.0  6.0  3.0  1.0  10/27/2015  6.0  12.0  1.0   2.0   ...     3.0   \n",
       "4  26.0  2.0  4.0  5.0  0.0  10/27/2015  4.0  10.0  5.0   5.0   ...     2.0   \n",
       "\n",
       "    TRB     Team  minutes                      name  opp_score  started  \\\n",
       "0  19.0  Detroit    37:09            Andre Drummond         94        1   \n",
       "1  10.0  Detroit    37:05             Marcus Morris         94        1   \n",
       "2   4.0  Detroit    37:03  Kentavious Caldwell-Pope         94        1   \n",
       "3   7.0  Detroit    34:26            Ersan Ilyasova         94        1   \n",
       "4   8.0  Detroit    32:07            Reggie Jackson         94        1   \n",
       "\n",
       "   team_score is_Home Team_Win  \n",
       "0         106       0        1  \n",
       "1         106       0        1  \n",
       "2         106       0        1  \n",
       "3         106       0        1  \n",
       "4         106       0        1  \n",
       "\n",
       "[5 rows x 26 columns]"
      ]
     },
     "execution_count": 218,
     "metadata": {},
     "output_type": "execute_result"
    }
   ],
   "source": [
    "df.head()"
   ]
  },
  {
   "cell_type": "code",
   "execution_count": 219,
   "metadata": {
    "collapsed": true
   },
   "outputs": [],
   "source": [
    "df['spread'] = df['team_score']-df['opp_score']"
   ]
  },
  {
   "cell_type": "code",
   "execution_count": 220,
   "metadata": {
    "collapsed": false
   },
   "outputs": [],
   "source": [
    "groups= df.groupby(['Game_Id','Team'],sort=False).sum()"
   ]
  },
  {
   "cell_type": "code",
   "execution_count": 221,
   "metadata": {
    "collapsed": false
   },
   "outputs": [],
   "source": [
    "matrix = groups.as_matrix()"
   ]
  },
  {
   "cell_type": "code",
   "execution_count": 222,
   "metadata": {
    "collapsed": false
   },
   "outputs": [],
   "source": [
    "ids = []\n",
    "for game in df['Game_Id'].unique():\n",
    "    ids.append(game+ '%aa'+game.split('_')[1])\n",
    "    ids.append(game+ '%aa'+game.split('_')[2])\n"
   ]
  },
  {
   "cell_type": "code",
   "execution_count": 223,
   "metadata": {
    "collapsed": false
   },
   "outputs": [],
   "source": [
    "new_frame = pd.DataFrame(matrix, columns = groups.columns, index = ids)"
   ]
  },
  {
   "cell_type": "code",
   "execution_count": 224,
   "metadata": {
    "collapsed": false
   },
   "outputs": [],
   "source": [
    "team_data = new_frame[['3P','3PA', 'AST', 'BLK', 'FG', 'FGA', 'FT', 'FTA', 'ORB',\n",
    "       'PF', 'PTS', 'STL', 'TOV', 'TRB','is_Home','Team_Win']]"
   ]
  },
  {
   "cell_type": "code",
   "execution_count": 225,
   "metadata": {
    "collapsed": false
   },
   "outputs": [],
   "source": [
    "team_data = team_data.reset_index()"
   ]
  },
  {
   "cell_type": "code",
   "execution_count": 226,
   "metadata": {
    "collapsed": false
   },
   "outputs": [],
   "source": [
    "team_data['Team'] = team_data['index'].apply(lambda x: x.split('%aa')[1])"
   ]
  },
  {
   "cell_type": "code",
   "execution_count": 227,
   "metadata": {
    "collapsed": false
   },
   "outputs": [],
   "source": [
    "team_data['index'] = team_data['index'].apply(lambda x: x.split('%aa')[0])"
   ]
  },
  {
   "cell_type": "code",
   "execution_count": 228,
   "metadata": {
    "collapsed": false
   },
   "outputs": [],
   "source": [
    "team_data['is_Home'] = team_data['is_Home'].apply(lambda x: x>0).astype(int)\n",
    "team_data['Team_Win'] = team_data['Team_Win'].apply(lambda x: x>0).astype(int)"
   ]
  },
  {
   "cell_type": "code",
   "execution_count": 229,
   "metadata": {
    "collapsed": false
   },
   "outputs": [
    {
     "data": {
      "text/html": [
       "<div>\n",
       "<table border=\"1\" class=\"dataframe\">\n",
       "  <thead>\n",
       "    <tr style=\"text-align: right;\">\n",
       "      <th></th>\n",
       "      <th>index</th>\n",
       "      <th>3P</th>\n",
       "      <th>3PA</th>\n",
       "      <th>AST</th>\n",
       "      <th>BLK</th>\n",
       "      <th>FG</th>\n",
       "      <th>FGA</th>\n",
       "      <th>FT</th>\n",
       "      <th>FTA</th>\n",
       "      <th>ORB</th>\n",
       "      <th>PF</th>\n",
       "      <th>PTS</th>\n",
       "      <th>STL</th>\n",
       "      <th>TOV</th>\n",
       "      <th>TRB</th>\n",
       "      <th>is_Home</th>\n",
       "      <th>Team_Win</th>\n",
       "      <th>Team</th>\n",
       "    </tr>\n",
       "  </thead>\n",
       "  <tbody>\n",
       "    <tr>\n",
       "      <th>0</th>\n",
       "      <td>10/27/2015_Atlanta_Detroit</td>\n",
       "      <td>12.0</td>\n",
       "      <td>29.0</td>\n",
       "      <td>23.0</td>\n",
       "      <td>3.0</td>\n",
       "      <td>37.0</td>\n",
       "      <td>96.0</td>\n",
       "      <td>20.0</td>\n",
       "      <td>26.0</td>\n",
       "      <td>23.0</td>\n",
       "      <td>15.0</td>\n",
       "      <td>106.0</td>\n",
       "      <td>5.0</td>\n",
       "      <td>15.0</td>\n",
       "      <td>59.0</td>\n",
       "      <td>0</td>\n",
       "      <td>1</td>\n",
       "      <td>Atlanta</td>\n",
       "    </tr>\n",
       "    <tr>\n",
       "      <th>1</th>\n",
       "      <td>10/27/2015_Atlanta_Detroit</td>\n",
       "      <td>8.0</td>\n",
       "      <td>27.0</td>\n",
       "      <td>22.0</td>\n",
       "      <td>4.0</td>\n",
       "      <td>37.0</td>\n",
       "      <td>82.0</td>\n",
       "      <td>12.0</td>\n",
       "      <td>15.0</td>\n",
       "      <td>7.0</td>\n",
       "      <td>25.0</td>\n",
       "      <td>94.0</td>\n",
       "      <td>9.0</td>\n",
       "      <td>15.0</td>\n",
       "      <td>40.0</td>\n",
       "      <td>1</td>\n",
       "      <td>0</td>\n",
       "      <td>Detroit</td>\n",
       "    </tr>\n",
       "    <tr>\n",
       "      <th>2</th>\n",
       "      <td>10/27/2015_Chicago_Cleveland</td>\n",
       "      <td>9.0</td>\n",
       "      <td>29.0</td>\n",
       "      <td>26.0</td>\n",
       "      <td>7.0</td>\n",
       "      <td>38.0</td>\n",
       "      <td>94.0</td>\n",
       "      <td>10.0</td>\n",
       "      <td>17.0</td>\n",
       "      <td>11.0</td>\n",
       "      <td>21.0</td>\n",
       "      <td>95.0</td>\n",
       "      <td>5.0</td>\n",
       "      <td>10.0</td>\n",
       "      <td>50.0</td>\n",
       "      <td>0</td>\n",
       "      <td>0</td>\n",
       "      <td>Chicago</td>\n",
       "    </tr>\n",
       "    <tr>\n",
       "      <th>3</th>\n",
       "      <td>10/27/2015_Chicago_Cleveland</td>\n",
       "      <td>7.0</td>\n",
       "      <td>19.0</td>\n",
       "      <td>13.0</td>\n",
       "      <td>10.0</td>\n",
       "      <td>37.0</td>\n",
       "      <td>87.0</td>\n",
       "      <td>16.0</td>\n",
       "      <td>23.0</td>\n",
       "      <td>7.0</td>\n",
       "      <td>22.0</td>\n",
       "      <td>97.0</td>\n",
       "      <td>6.0</td>\n",
       "      <td>13.0</td>\n",
       "      <td>47.0</td>\n",
       "      <td>1</td>\n",
       "      <td>1</td>\n",
       "      <td>Cleveland</td>\n",
       "    </tr>\n",
       "    <tr>\n",
       "      <th>4</th>\n",
       "      <td>10/27/2015_Golden State_New Orleans</td>\n",
       "      <td>6.0</td>\n",
       "      <td>18.0</td>\n",
       "      <td>21.0</td>\n",
       "      <td>3.0</td>\n",
       "      <td>35.0</td>\n",
       "      <td>83.0</td>\n",
       "      <td>19.0</td>\n",
       "      <td>27.0</td>\n",
       "      <td>8.0</td>\n",
       "      <td>26.0</td>\n",
       "      <td>95.0</td>\n",
       "      <td>9.0</td>\n",
       "      <td>18.0</td>\n",
       "      <td>33.0</td>\n",
       "      <td>0</td>\n",
       "      <td>0</td>\n",
       "      <td>Golden State</td>\n",
       "    </tr>\n",
       "  </tbody>\n",
       "</table>\n",
       "</div>"
      ],
      "text/plain": [
       "                                 index    3P   3PA   AST   BLK    FG   FGA  \\\n",
       "0           10/27/2015_Atlanta_Detroit  12.0  29.0  23.0   3.0  37.0  96.0   \n",
       "1           10/27/2015_Atlanta_Detroit   8.0  27.0  22.0   4.0  37.0  82.0   \n",
       "2         10/27/2015_Chicago_Cleveland   9.0  29.0  26.0   7.0  38.0  94.0   \n",
       "3         10/27/2015_Chicago_Cleveland   7.0  19.0  13.0  10.0  37.0  87.0   \n",
       "4  10/27/2015_Golden State_New Orleans   6.0  18.0  21.0   3.0  35.0  83.0   \n",
       "\n",
       "     FT   FTA   ORB    PF    PTS  STL   TOV   TRB  is_Home  Team_Win  \\\n",
       "0  20.0  26.0  23.0  15.0  106.0  5.0  15.0  59.0        0         1   \n",
       "1  12.0  15.0   7.0  25.0   94.0  9.0  15.0  40.0        1         0   \n",
       "2  10.0  17.0  11.0  21.0   95.0  5.0  10.0  50.0        0         0   \n",
       "3  16.0  23.0   7.0  22.0   97.0  6.0  13.0  47.0        1         1   \n",
       "4  19.0  27.0   8.0  26.0   95.0  9.0  18.0  33.0        0         0   \n",
       "\n",
       "           Team  \n",
       "0       Atlanta  \n",
       "1       Detroit  \n",
       "2       Chicago  \n",
       "3     Cleveland  \n",
       "4  Golden State  "
      ]
     },
     "execution_count": 229,
     "metadata": {},
     "output_type": "execute_result"
    }
   ],
   "source": [
    "team_data.head()"
   ]
  },
  {
   "cell_type": "code",
   "execution_count": 230,
   "metadata": {
    "collapsed": false,
    "scrolled": true
   },
   "outputs": [],
   "source": [
    "both_teams_total = team_data.groupby('index',sort=False).sum().reset_index()\n",
    "##doing weird things. \n",
    "weird = pd.merge(both_teams_total,team_data,on='index')"
   ]
  },
  {
   "cell_type": "code",
   "execution_count": 231,
   "metadata": {
    "collapsed": false
   },
   "outputs": [],
   "source": [
    "#fill in opponent data in an insufficient way\n",
    "team_data['opp_3P'] = weird['3P_x']-team_data['3P']\n",
    "team_data['opp_3PA'] = weird['3PA_x']-team_data['3PA']\n",
    "team_data['opp_AST'] = weird['AST_x']-team_data['AST']\n",
    "team_data['opp_BLK'] = weird['BLK_x']-team_data['BLK']\n",
    "team_data['opp_FG'] = weird['FG_x']-team_data['FG']\n",
    "team_data['opp_FGA'] = weird['FGA_x']-team_data['FGA']\n",
    "team_data['opp_FT'] = weird['FT_x']-team_data['FT']\n",
    "team_data['opp_FTA'] = weird['FTA_x']-team_data['FTA']\n",
    "team_data['opp_PTS'] = weird['PTS_x']-team_data['PTS']\n",
    "team_data['opp_ORB'] = weird['ORB_x']-team_data['ORB']\n",
    "team_data['opp_STL'] = weird['STL_x']-team_data['STL']\n",
    "team_data['opp_PF'] = weird['PF_x']-team_data['PF']\n",
    "team_data['opp_TOV'] = weird['TOV_x']-team_data['TOV']"
   ]
  },
  {
   "cell_type": "code",
   "execution_count": 232,
   "metadata": {
    "collapsed": false
   },
   "outputs": [],
   "source": [
    "def opponent(row):\n",
    "    if row['Team'] == row['index'].split('_')[1]:\n",
    "        return row['index'].split('_')[2]\n",
    "    else:\n",
    "        return row['index'].split('_')[1]"
   ]
  },
  {
   "cell_type": "code",
   "execution_count": 233,
   "metadata": {
    "collapsed": false
   },
   "outputs": [],
   "source": [
    "team_data['opponent'] =team_data.apply(opponent, axis=1)"
   ]
  },
  {
   "cell_type": "code",
   "execution_count": 234,
   "metadata": {
    "collapsed": false
   },
   "outputs": [],
   "source": [
    "team_data['Game_Id'] = team_data['index']\n",
    "team_data.drop('index',axis=1, inplace=True)"
   ]
  },
  {
   "cell_type": "code",
   "execution_count": 237,
   "metadata": {
    "collapsed": false
   },
   "outputs": [
    {
     "data": {
      "text/plain": [
       "0                 10/27/2015_Atlanta_Detroit\n",
       "1                 10/27/2015_Atlanta_Detroit\n",
       "2               10/27/2015_Chicago_Cleveland\n",
       "3               10/27/2015_Chicago_Cleveland\n",
       "4        10/27/2015_Golden State_New Orleans\n",
       "5        10/27/2015_Golden State_New Orleans\n",
       "6             10/28/2015_Boston_Philadelphia\n",
       "7             10/28/2015_Boston_Philadelphia\n",
       "8                10/28/2015_Brooklyn_Chicago\n",
       "9                10/28/2015_Brooklyn_Chicago\n",
       "10                   10/28/2015_Detroit_Utah\n",
       "11                   10/28/2015_Detroit_Utah\n",
       "12                 10/28/2015_Houston_Denver\n",
       "13                 10/28/2015_Houston_Denver\n",
       "14            10/28/2015_LA Lakers_Minnesota\n",
       "15            10/28/2015_LA Lakers_Minnesota\n",
       "16              10/28/2015_Memphis_Cleveland\n",
       "17              10/28/2015_Memphis_Cleveland\n",
       "18                10/28/2015_Miami_Charlotte\n",
       "19                10/28/2015_Miami_Charlotte\n",
       "20             10/28/2015_Milwaukee_New York\n",
       "21             10/28/2015_Milwaukee_New York\n",
       "22      10/28/2015_Oklahoma City_San Antonio\n",
       "23      10/28/2015_Oklahoma City_San Antonio\n",
       "24             10/28/2015_Orlando_Washington\n",
       "25             10/28/2015_Orlando_Washington\n",
       "26                 10/28/2015_Phoenix_Dallas\n",
       "27                 10/28/2015_Phoenix_Dallas\n",
       "28           10/28/2015_Portland_New Orleans\n",
       "29           10/28/2015_Portland_New Orleans\n",
       "                        ...                 \n",
       "2516          4/24/2016_Houston_Golden State\n",
       "2517          4/24/2016_Houston_Golden State\n",
       "2518           4/24/2016_Memphis_San Antonio\n",
       "2519           4/24/2016_Memphis_San Antonio\n",
       "2520               4/25/2016_Charlotte_Miami\n",
       "2521               4/25/2016_Charlotte_Miami\n",
       "2522          4/25/2016_Oklahoma City_Dallas\n",
       "2523          4/25/2016_Oklahoma City_Dallas\n",
       "2524          4/25/2016_Portland_LA Clippers\n",
       "2525          4/25/2016_Portland_LA Clippers\n",
       "2526                4/26/2016_Atlanta_Boston\n",
       "2527                4/26/2016_Atlanta_Boston\n",
       "2528               4/26/2016_Toronto_Indiana\n",
       "2529               4/26/2016_Toronto_Indiana\n",
       "2530          4/27/2016_Golden State_Houston\n",
       "2531          4/27/2016_Golden State_Houston\n",
       "2532          4/27/2016_LA Clippers_Portland\n",
       "2533          4/27/2016_LA Clippers_Portland\n",
       "2534               4/27/2016_Miami_Charlotte\n",
       "2535               4/27/2016_Miami_Charlotte\n",
       "2536                4/28/2016_Boston_Atlanta\n",
       "2537                4/28/2016_Boston_Atlanta\n",
       "2538               4/29/2016_Charlotte_Miami\n",
       "2539               4/29/2016_Charlotte_Miami\n",
       "2540               4/29/2016_Indiana_Toronto\n",
       "2541               4/29/2016_Indiana_Toronto\n",
       "2542          4/29/2016_Portland_LA Clippers\n",
       "2543          4/29/2016_Portland_LA Clippers\n",
       "2544     4/30/2016_San Antonio_Oklahoma City\n",
       "2545     4/30/2016_San Antonio_Oklahoma City\n",
       "Name: Game_Id, dtype: object"
      ]
     },
     "execution_count": 237,
     "metadata": {},
     "output_type": "execute_result"
    }
   ],
   "source": [
    "team_data['Game_Id']"
   ]
  },
  {
   "cell_type": "code",
   "execution_count": 214,
   "metadata": {
    "collapsed": true
   },
   "outputs": [],
   "source": []
  },
  {
   "cell_type": "code",
   "execution_count": 253,
   "metadata": {
    "collapsed": true
   },
   "outputs": [],
   "source": [
    "##get rid of games that are playoffs\n",
    "team_data = team_data.iloc[:2460]\n",
    "team_data.to_csv('team_boxscores_2015.csv')"
   ]
  },
  {
   "cell_type": "code",
   "execution_count": 258,
   "metadata": {
    "collapsed": false
   },
   "outputs": [],
   "source": [
    "df = pd.read_csv('nba_player_data_2015.csv')\n",
    "df = df.iloc[:31430]\n",
    "df.to_csv('correct_nba_player_data_2015.csv')"
   ]
  },
  {
   "cell_type": "code",
   "execution_count": 257,
   "metadata": {
    "collapsed": false
   },
   "outputs": [
    {
     "data": {
      "text/plain": [
       "(32548, 27)"
      ]
     },
     "execution_count": 257,
     "metadata": {},
     "output_type": "execute_result"
    }
   ],
   "source": [
    "df.shape"
   ]
  },
  {
   "cell_type": "code",
   "execution_count": null,
   "metadata": {
    "collapsed": true
   },
   "outputs": [],
   "source": []
  }
 ],
 "metadata": {
  "kernelspec": {
   "display_name": "Python 2",
   "language": "python",
   "name": "python2"
  },
  "language_info": {
   "codemirror_mode": {
    "name": "ipython",
    "version": 2
   },
   "file_extension": ".py",
   "mimetype": "text/x-python",
   "name": "python",
   "nbconvert_exporter": "python",
   "pygments_lexer": "ipython2",
   "version": "2.7.13"
  }
 },
 "nbformat": 4,
 "nbformat_minor": 2
}
