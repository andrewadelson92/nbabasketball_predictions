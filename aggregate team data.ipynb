{
 "cells": [
  {
   "cell_type": "code",
   "execution_count": 176,
   "metadata": {
    "collapsed": true
   },
   "outputs": [],
   "source": [
    "import pandas as pd"
   ]
  },
  {
   "cell_type": "code",
   "execution_count": 215,
   "metadata": {
    "collapsed": true
   },
   "outputs": [],
   "source": [
    "df = pd.read_csv('nba_player_data_2015.csv')"
   ]
  },
  {
   "cell_type": "code",
   "execution_count": 304,
   "metadata": {
    "collapsed": false
   },
   "outputs": [],
   "source": [
    "df.drop('Unnamed: 0', axis=1, inplace=True)"
   ]
  },
  {
   "cell_type": "code",
   "execution_count": 305,
   "metadata": {
    "collapsed": false
   },
   "outputs": [
    {
     "data": {
      "text/html": [
       "<div>\n",
       "<table border=\"1\" class=\"dataframe\">\n",
       "  <thead>\n",
       "    <tr style=\"text-align: right;\">\n",
       "      <th></th>\n",
       "      <th>+/1</th>\n",
       "      <th>3P</th>\n",
       "      <th>3PA</th>\n",
       "      <th>AST</th>\n",
       "      <th>BLK</th>\n",
       "      <th>Date</th>\n",
       "      <th>FG</th>\n",
       "      <th>FGA</th>\n",
       "      <th>FT</th>\n",
       "      <th>FTA</th>\n",
       "      <th>...</th>\n",
       "      <th>TOV</th>\n",
       "      <th>TRB</th>\n",
       "      <th>Team</th>\n",
       "      <th>minutes</th>\n",
       "      <th>name</th>\n",
       "      <th>opp_score</th>\n",
       "      <th>started</th>\n",
       "      <th>team_score</th>\n",
       "      <th>is_Home</th>\n",
       "      <th>Team_Win</th>\n",
       "    </tr>\n",
       "  </thead>\n",
       "  <tbody>\n",
       "    <tr>\n",
       "      <th>0</th>\n",
       "      <td>16.0</td>\n",
       "      <td>2.0</td>\n",
       "      <td>3.0</td>\n",
       "      <td>5.0</td>\n",
       "      <td>0.0</td>\n",
       "      <td>10/28/2014</td>\n",
       "      <td>2.0</td>\n",
       "      <td>6.0</td>\n",
       "      <td>3.0</td>\n",
       "      <td>6.0</td>\n",
       "      <td>...</td>\n",
       "      <td>2.0</td>\n",
       "      <td>5.0</td>\n",
       "      <td>Houston</td>\n",
       "      <td>30:55</td>\n",
       "      <td>Patrick Beverley</td>\n",
       "      <td>90</td>\n",
       "      <td>1</td>\n",
       "      <td>108</td>\n",
       "      <td>0</td>\n",
       "      <td>1</td>\n",
       "    </tr>\n",
       "    <tr>\n",
       "      <th>1</th>\n",
       "      <td>12.0</td>\n",
       "      <td>3.0</td>\n",
       "      <td>6.0</td>\n",
       "      <td>6.0</td>\n",
       "      <td>0.0</td>\n",
       "      <td>10/28/2014</td>\n",
       "      <td>7.0</td>\n",
       "      <td>17.0</td>\n",
       "      <td>15.0</td>\n",
       "      <td>16.0</td>\n",
       "      <td>...</td>\n",
       "      <td>0.0</td>\n",
       "      <td>1.0</td>\n",
       "      <td>Houston</td>\n",
       "      <td>30:46</td>\n",
       "      <td>James Harden</td>\n",
       "      <td>90</td>\n",
       "      <td>1</td>\n",
       "      <td>108</td>\n",
       "      <td>0</td>\n",
       "      <td>1</td>\n",
       "    </tr>\n",
       "    <tr>\n",
       "      <th>2</th>\n",
       "      <td>14.0</td>\n",
       "      <td>0.0</td>\n",
       "      <td>1.0</td>\n",
       "      <td>3.0</td>\n",
       "      <td>2.0</td>\n",
       "      <td>10/28/2014</td>\n",
       "      <td>8.0</td>\n",
       "      <td>16.0</td>\n",
       "      <td>0.0</td>\n",
       "      <td>1.0</td>\n",
       "      <td>...</td>\n",
       "      <td>2.0</td>\n",
       "      <td>13.0</td>\n",
       "      <td>Houston</td>\n",
       "      <td>30:31</td>\n",
       "      <td>Terrence Jones</td>\n",
       "      <td>90</td>\n",
       "      <td>1</td>\n",
       "      <td>108</td>\n",
       "      <td>0</td>\n",
       "      <td>1</td>\n",
       "    </tr>\n",
       "    <tr>\n",
       "      <th>3</th>\n",
       "      <td>11.0</td>\n",
       "      <td>5.0</td>\n",
       "      <td>8.0</td>\n",
       "      <td>2.0</td>\n",
       "      <td>0.0</td>\n",
       "      <td>10/28/2014</td>\n",
       "      <td>5.0</td>\n",
       "      <td>10.0</td>\n",
       "      <td>1.0</td>\n",
       "      <td>1.0</td>\n",
       "      <td>...</td>\n",
       "      <td>2.0</td>\n",
       "      <td>3.0</td>\n",
       "      <td>Houston</td>\n",
       "      <td>29:34</td>\n",
       "      <td>Trevor Ariza</td>\n",
       "      <td>90</td>\n",
       "      <td>1</td>\n",
       "      <td>108</td>\n",
       "      <td>0</td>\n",
       "      <td>1</td>\n",
       "    </tr>\n",
       "    <tr>\n",
       "      <th>4</th>\n",
       "      <td>20.0</td>\n",
       "      <td>0.0</td>\n",
       "      <td>0.0</td>\n",
       "      <td>1.0</td>\n",
       "      <td>1.0</td>\n",
       "      <td>10/28/2014</td>\n",
       "      <td>3.0</td>\n",
       "      <td>5.0</td>\n",
       "      <td>7.0</td>\n",
       "      <td>16.0</td>\n",
       "      <td>...</td>\n",
       "      <td>1.0</td>\n",
       "      <td>11.0</td>\n",
       "      <td>Houston</td>\n",
       "      <td>20:34</td>\n",
       "      <td>Dwight Howard</td>\n",
       "      <td>90</td>\n",
       "      <td>1</td>\n",
       "      <td>108</td>\n",
       "      <td>0</td>\n",
       "      <td>1</td>\n",
       "    </tr>\n",
       "  </tbody>\n",
       "</table>\n",
       "<p>5 rows × 26 columns</p>\n",
       "</div>"
      ],
      "text/plain": [
       "    +/1   3P  3PA  AST  BLK        Date   FG   FGA    FT   FTA   ...     TOV  \\\n",
       "0  16.0  2.0  3.0  5.0  0.0  10/28/2014  2.0   6.0   3.0   6.0   ...     2.0   \n",
       "1  12.0  3.0  6.0  6.0  0.0  10/28/2014  7.0  17.0  15.0  16.0   ...     0.0   \n",
       "2  14.0  0.0  1.0  3.0  2.0  10/28/2014  8.0  16.0   0.0   1.0   ...     2.0   \n",
       "3  11.0  5.0  8.0  2.0  0.0  10/28/2014  5.0  10.0   1.0   1.0   ...     2.0   \n",
       "4  20.0  0.0  0.0  1.0  1.0  10/28/2014  3.0   5.0   7.0  16.0   ...     1.0   \n",
       "\n",
       "    TRB     Team  minutes              name  opp_score  started  team_score  \\\n",
       "0   5.0  Houston    30:55  Patrick Beverley         90        1         108   \n",
       "1   1.0  Houston    30:46      James Harden         90        1         108   \n",
       "2  13.0  Houston    30:31    Terrence Jones         90        1         108   \n",
       "3   3.0  Houston    29:34      Trevor Ariza         90        1         108   \n",
       "4  11.0  Houston    20:34     Dwight Howard         90        1         108   \n",
       "\n",
       "  is_Home Team_Win  \n",
       "0       0        1  \n",
       "1       0        1  \n",
       "2       0        1  \n",
       "3       0        1  \n",
       "4       0        1  \n",
       "\n",
       "[5 rows x 26 columns]"
      ]
     },
     "execution_count": 305,
     "metadata": {},
     "output_type": "execute_result"
    }
   ],
   "source": [
    "df.head()"
   ]
  },
  {
   "cell_type": "code",
   "execution_count": 306,
   "metadata": {
    "collapsed": false
   },
   "outputs": [],
   "source": [
    "df['spread'] = df['team_score']-df['opp_score']"
   ]
  },
  {
   "cell_type": "code",
   "execution_count": 307,
   "metadata": {
    "collapsed": false
   },
   "outputs": [
    {
     "data": {
      "text/plain": [
       "Index([u'+/1', u'3P', u'3PA', u'AST', u'BLK', u'Date', u'FG', u'FGA', u'FT',\n",
       "       u'FTA', u'Game_Id', u'ORB', u'Opponent', u'PF', u'PTS', u'STL', u'TOV',\n",
       "       u'TRB', u'Team', u'minutes', u'name', u'opp_score', u'started',\n",
       "       u'team_score', u'is_Home', u'Team_Win', u'spread'],\n",
       "      dtype='object')"
      ]
     },
     "execution_count": 307,
     "metadata": {},
     "output_type": "execute_result"
    }
   ],
   "source": [
    "df.columns"
   ]
  },
  {
   "cell_type": "code",
   "execution_count": 308,
   "metadata": {
    "collapsed": false
   },
   "outputs": [],
   "source": [
    "groups= df.groupby(['Game_Id','Team'],sort=False).sum()"
   ]
  },
  {
   "cell_type": "code",
   "execution_count": 296,
   "metadata": {
    "collapsed": false
   },
   "outputs": [
    {
     "data": {
      "text/html": [
       "<div>\n",
       "<table border=\"1\" class=\"dataframe\">\n",
       "  <thead>\n",
       "    <tr style=\"text-align: right;\">\n",
       "      <th></th>\n",
       "      <th></th>\n",
       "      <th>+/1</th>\n",
       "      <th>3P</th>\n",
       "      <th>3PA</th>\n",
       "      <th>AST</th>\n",
       "      <th>BLK</th>\n",
       "      <th>FG</th>\n",
       "      <th>FGA</th>\n",
       "      <th>FT</th>\n",
       "      <th>FTA</th>\n",
       "      <th>ORB</th>\n",
       "      <th>PF</th>\n",
       "      <th>PTS</th>\n",
       "      <th>STL</th>\n",
       "      <th>TOV</th>\n",
       "      <th>TRB</th>\n",
       "      <th>opp_score</th>\n",
       "      <th>started</th>\n",
       "      <th>team_score</th>\n",
       "      <th>spread</th>\n",
       "    </tr>\n",
       "    <tr>\n",
       "      <th>Game_Id</th>\n",
       "      <th>Team</th>\n",
       "      <th></th>\n",
       "      <th></th>\n",
       "      <th></th>\n",
       "      <th></th>\n",
       "      <th></th>\n",
       "      <th></th>\n",
       "      <th></th>\n",
       "      <th></th>\n",
       "      <th></th>\n",
       "      <th></th>\n",
       "      <th></th>\n",
       "      <th></th>\n",
       "      <th></th>\n",
       "      <th></th>\n",
       "      <th></th>\n",
       "      <th></th>\n",
       "      <th></th>\n",
       "      <th></th>\n",
       "      <th></th>\n",
       "    </tr>\n",
       "  </thead>\n",
       "  <tbody>\n",
       "    <tr>\n",
       "      <th>10/28/2014_LA Lakers_Houston</th>\n",
       "      <th>Houston</th>\n",
       "      <td>90.0</td>\n",
       "      <td>12.0</td>\n",
       "      <td>29.0</td>\n",
       "      <td>22.0</td>\n",
       "      <td>3.0</td>\n",
       "      <td>31.0</td>\n",
       "      <td>73.0</td>\n",
       "      <td>34.0</td>\n",
       "      <td>50.0</td>\n",
       "      <td>14.0</td>\n",
       "      <td>30.0</td>\n",
       "      <td>108.0</td>\n",
       "      <td>7.0</td>\n",
       "      <td>13.0</td>\n",
       "      <td>47.0</td>\n",
       "      <td>1170</td>\n",
       "      <td>5.0</td>\n",
       "      <td>1404</td>\n",
       "      <td>234</td>\n",
       "    </tr>\n",
       "    <tr>\n",
       "      <th>10/28/2014_Houston_LA Lakers</th>\n",
       "      <th>LA Lakers</th>\n",
       "      <td>-90.0</td>\n",
       "      <td>3.0</td>\n",
       "      <td>10.0</td>\n",
       "      <td>16.0</td>\n",
       "      <td>3.0</td>\n",
       "      <td>28.0</td>\n",
       "      <td>79.0</td>\n",
       "      <td>31.0</td>\n",
       "      <td>39.0</td>\n",
       "      <td>11.0</td>\n",
       "      <td>32.0</td>\n",
       "      <td>90.0</td>\n",
       "      <td>7.0</td>\n",
       "      <td>11.0</td>\n",
       "      <td>36.0</td>\n",
       "      <td>1404</td>\n",
       "      <td>5.0</td>\n",
       "      <td>1170</td>\n",
       "      <td>-234</td>\n",
       "    </tr>\n",
       "    <tr>\n",
       "      <th>10/28/2014_New Orleans_Orlando</th>\n",
       "      <th>Orlando</th>\n",
       "      <td>-85.0</td>\n",
       "      <td>4.0</td>\n",
       "      <td>11.0</td>\n",
       "      <td>17.0</td>\n",
       "      <td>9.0</td>\n",
       "      <td>32.0</td>\n",
       "      <td>84.0</td>\n",
       "      <td>16.0</td>\n",
       "      <td>21.0</td>\n",
       "      <td>16.0</td>\n",
       "      <td>25.0</td>\n",
       "      <td>84.0</td>\n",
       "      <td>5.0</td>\n",
       "      <td>18.0</td>\n",
       "      <td>56.0</td>\n",
       "      <td>1313</td>\n",
       "      <td>5.0</td>\n",
       "      <td>1092</td>\n",
       "      <td>-221</td>\n",
       "    </tr>\n",
       "    <tr>\n",
       "      <th>10/28/2014_Orlando_New Orleans</th>\n",
       "      <th>New Orleans</th>\n",
       "      <td>85.0</td>\n",
       "      <td>4.0</td>\n",
       "      <td>17.0</td>\n",
       "      <td>20.0</td>\n",
       "      <td>17.0</td>\n",
       "      <td>41.0</td>\n",
       "      <td>101.0</td>\n",
       "      <td>15.0</td>\n",
       "      <td>31.0</td>\n",
       "      <td>26.0</td>\n",
       "      <td>17.0</td>\n",
       "      <td>101.0</td>\n",
       "      <td>10.0</td>\n",
       "      <td>9.0</td>\n",
       "      <td>62.0</td>\n",
       "      <td>1092</td>\n",
       "      <td>5.0</td>\n",
       "      <td>1313</td>\n",
       "      <td>221</td>\n",
       "    </tr>\n",
       "    <tr>\n",
       "      <th>10/28/2014_San Antonio_Dallas</th>\n",
       "      <th>Dallas</th>\n",
       "      <td>-5.0</td>\n",
       "      <td>8.0</td>\n",
       "      <td>21.0</td>\n",
       "      <td>17.0</td>\n",
       "      <td>3.0</td>\n",
       "      <td>38.0</td>\n",
       "      <td>78.0</td>\n",
       "      <td>16.0</td>\n",
       "      <td>19.0</td>\n",
       "      <td>9.0</td>\n",
       "      <td>20.0</td>\n",
       "      <td>100.0</td>\n",
       "      <td>9.0</td>\n",
       "      <td>10.0</td>\n",
       "      <td>33.0</td>\n",
       "      <td>1313</td>\n",
       "      <td>5.0</td>\n",
       "      <td>1300</td>\n",
       "      <td>-13</td>\n",
       "    </tr>\n",
       "  </tbody>\n",
       "</table>\n",
       "</div>"
      ],
      "text/plain": [
       "                                             +/1    3P   3PA   AST   BLK  \\\n",
       "Game_Id                        Team                                        \n",
       "10/28/2014_LA Lakers_Houston   Houston      90.0  12.0  29.0  22.0   3.0   \n",
       "10/28/2014_Houston_LA Lakers   LA Lakers   -90.0   3.0  10.0  16.0   3.0   \n",
       "10/28/2014_New Orleans_Orlando Orlando     -85.0   4.0  11.0  17.0   9.0   \n",
       "10/28/2014_Orlando_New Orleans New Orleans  85.0   4.0  17.0  20.0  17.0   \n",
       "10/28/2014_San Antonio_Dallas  Dallas       -5.0   8.0  21.0  17.0   3.0   \n",
       "\n",
       "                                              FG    FGA    FT   FTA   ORB  \\\n",
       "Game_Id                        Team                                         \n",
       "10/28/2014_LA Lakers_Houston   Houston      31.0   73.0  34.0  50.0  14.0   \n",
       "10/28/2014_Houston_LA Lakers   LA Lakers    28.0   79.0  31.0  39.0  11.0   \n",
       "10/28/2014_New Orleans_Orlando Orlando      32.0   84.0  16.0  21.0  16.0   \n",
       "10/28/2014_Orlando_New Orleans New Orleans  41.0  101.0  15.0  31.0  26.0   \n",
       "10/28/2014_San Antonio_Dallas  Dallas       38.0   78.0  16.0  19.0   9.0   \n",
       "\n",
       "                                              PF    PTS   STL   TOV   TRB  \\\n",
       "Game_Id                        Team                                         \n",
       "10/28/2014_LA Lakers_Houston   Houston      30.0  108.0   7.0  13.0  47.0   \n",
       "10/28/2014_Houston_LA Lakers   LA Lakers    32.0   90.0   7.0  11.0  36.0   \n",
       "10/28/2014_New Orleans_Orlando Orlando      25.0   84.0   5.0  18.0  56.0   \n",
       "10/28/2014_Orlando_New Orleans New Orleans  17.0  101.0  10.0   9.0  62.0   \n",
       "10/28/2014_San Antonio_Dallas  Dallas       20.0  100.0   9.0  10.0  33.0   \n",
       "\n",
       "                                            opp_score  started  team_score  \\\n",
       "Game_Id                        Team                                          \n",
       "10/28/2014_LA Lakers_Houston   Houston           1170      5.0        1404   \n",
       "10/28/2014_Houston_LA Lakers   LA Lakers         1404      5.0        1170   \n",
       "10/28/2014_New Orleans_Orlando Orlando           1313      5.0        1092   \n",
       "10/28/2014_Orlando_New Orleans New Orleans       1092      5.0        1313   \n",
       "10/28/2014_San Antonio_Dallas  Dallas            1313      5.0        1300   \n",
       "\n",
       "                                            spread  \n",
       "Game_Id                        Team                 \n",
       "10/28/2014_LA Lakers_Houston   Houston         234  \n",
       "10/28/2014_Houston_LA Lakers   LA Lakers      -234  \n",
       "10/28/2014_New Orleans_Orlando Orlando        -221  \n",
       "10/28/2014_Orlando_New Orleans New Orleans     221  \n",
       "10/28/2014_San Antonio_Dallas  Dallas          -13  "
      ]
     },
     "execution_count": 296,
     "metadata": {},
     "output_type": "execute_result"
    }
   ],
   "source": [
    "groups.head()"
   ]
  },
  {
   "cell_type": "code",
   "execution_count": 309,
   "metadata": {
    "collapsed": false
   },
   "outputs": [],
   "source": [
    "matrix = groups.as_matrix()"
   ]
  },
  {
   "cell_type": "code",
   "execution_count": 310,
   "metadata": {
    "collapsed": false
   },
   "outputs": [
    {
     "data": {
      "text/plain": [
       "['10/28/2014_LA Lakers_Houston%aaLA Lakers',\n",
       " '10/28/2014_LA Lakers_Houston%aaHouston',\n",
       " '10/28/2014_New Orleans_Orlando%aaNew Orleans',\n",
       " '10/28/2014_New Orleans_Orlando%aaOrlando',\n",
       " '10/28/2014_San Antonio_Dallas%aaSan Antonio',\n",
       " '10/28/2014_San Antonio_Dallas%aaDallas',\n",
       " '10/29/2014_Boston_Brooklyn%aaBoston',\n",
       " '10/29/2014_Boston_Brooklyn%aaBrooklyn',\n",
       " '10/29/2014_Charlotte_Milwaukee%aaCharlotte',\n",
       " '10/29/2014_Charlotte_Milwaukee%aaMilwaukee']"
      ]
     },
     "execution_count": 310,
     "metadata": {},
     "output_type": "execute_result"
    }
   ],
   "source": [
    "ids = []\n",
    "for game in df['Game_Id'].unique():\n",
    "    ids.append(game+ '%aa'+game.split('_')[1])\n",
    "    ids.append(game+ '%aa'+game.split('_')[2])\n",
    "ids[0:10]"
   ]
  },
  {
   "cell_type": "code",
   "execution_count": 311,
   "metadata": {
    "collapsed": false
   },
   "outputs": [
    {
     "data": {
      "text/plain": [
       "2460"
      ]
     },
     "execution_count": 311,
     "metadata": {},
     "output_type": "execute_result"
    }
   ],
   "source": [
    "len(matrix)"
   ]
  },
  {
   "cell_type": "code",
   "execution_count": 312,
   "metadata": {
    "collapsed": false
   },
   "outputs": [],
   "source": [
    "new_frame = pd.DataFrame(matrix, columns = groups.columns, index = ids)"
   ]
  },
  {
   "cell_type": "code",
   "execution_count": 313,
   "metadata": {
    "collapsed": false
   },
   "outputs": [],
   "source": [
    "team_data = new_frame[['3P','3PA', 'AST', 'BLK', 'FG', 'FGA', 'FT', 'FTA', 'ORB',\n",
    "       'PF', 'PTS', 'STL', 'TOV', 'TRB','is_Home','Team_Win']]"
   ]
  },
  {
   "cell_type": "code",
   "execution_count": 314,
   "metadata": {
    "collapsed": false
   },
   "outputs": [],
   "source": [
    "team_data = team_data.reset_index()"
   ]
  },
  {
   "cell_type": "code",
   "execution_count": 315,
   "metadata": {
    "collapsed": false
   },
   "outputs": [],
   "source": [
    "team_data['Team'] = team_data['index'].apply(lambda x: x.split('%aa')[1])"
   ]
  },
  {
   "cell_type": "code",
   "execution_count": 316,
   "metadata": {
    "collapsed": false
   },
   "outputs": [],
   "source": [
    "team_data['index'] = team_data['index'].apply(lambda x: x.split('%aa')[0])"
   ]
  },
  {
   "cell_type": "code",
   "execution_count": 317,
   "metadata": {
    "collapsed": false
   },
   "outputs": [],
   "source": [
    "team_data['is_Home'] = team_data['is_Home'].apply(lambda x: x>0).astype(int)\n",
    "team_data['Team_Win'] = team_data['Team_Win'].apply(lambda x: x>0).astype(int)"
   ]
  },
  {
   "cell_type": "code",
   "execution_count": 318,
   "metadata": {
    "collapsed": false
   },
   "outputs": [
    {
     "data": {
      "text/html": [
       "<div>\n",
       "<table border=\"1\" class=\"dataframe\">\n",
       "  <thead>\n",
       "    <tr style=\"text-align: right;\">\n",
       "      <th></th>\n",
       "      <th>index</th>\n",
       "      <th>3P</th>\n",
       "      <th>3PA</th>\n",
       "      <th>AST</th>\n",
       "      <th>BLK</th>\n",
       "      <th>FG</th>\n",
       "      <th>FGA</th>\n",
       "      <th>FT</th>\n",
       "      <th>FTA</th>\n",
       "      <th>ORB</th>\n",
       "      <th>PF</th>\n",
       "      <th>PTS</th>\n",
       "      <th>STL</th>\n",
       "      <th>TOV</th>\n",
       "      <th>TRB</th>\n",
       "      <th>is_Home</th>\n",
       "      <th>Team_Win</th>\n",
       "      <th>Team</th>\n",
       "    </tr>\n",
       "  </thead>\n",
       "  <tbody>\n",
       "    <tr>\n",
       "      <th>0</th>\n",
       "      <td>10/28/2014_LA Lakers_Houston</td>\n",
       "      <td>12.0</td>\n",
       "      <td>29.0</td>\n",
       "      <td>22.0</td>\n",
       "      <td>3.0</td>\n",
       "      <td>31.0</td>\n",
       "      <td>73.0</td>\n",
       "      <td>34.0</td>\n",
       "      <td>50.0</td>\n",
       "      <td>14.0</td>\n",
       "      <td>30.0</td>\n",
       "      <td>108.0</td>\n",
       "      <td>7.0</td>\n",
       "      <td>13.0</td>\n",
       "      <td>47.0</td>\n",
       "      <td>0</td>\n",
       "      <td>1</td>\n",
       "      <td>LA Lakers</td>\n",
       "    </tr>\n",
       "    <tr>\n",
       "      <th>1</th>\n",
       "      <td>10/28/2014_LA Lakers_Houston</td>\n",
       "      <td>3.0</td>\n",
       "      <td>10.0</td>\n",
       "      <td>16.0</td>\n",
       "      <td>3.0</td>\n",
       "      <td>28.0</td>\n",
       "      <td>79.0</td>\n",
       "      <td>31.0</td>\n",
       "      <td>39.0</td>\n",
       "      <td>11.0</td>\n",
       "      <td>32.0</td>\n",
       "      <td>90.0</td>\n",
       "      <td>7.0</td>\n",
       "      <td>11.0</td>\n",
       "      <td>36.0</td>\n",
       "      <td>1</td>\n",
       "      <td>0</td>\n",
       "      <td>Houston</td>\n",
       "    </tr>\n",
       "    <tr>\n",
       "      <th>2</th>\n",
       "      <td>10/28/2014_New Orleans_Orlando</td>\n",
       "      <td>4.0</td>\n",
       "      <td>11.0</td>\n",
       "      <td>17.0</td>\n",
       "      <td>9.0</td>\n",
       "      <td>32.0</td>\n",
       "      <td>84.0</td>\n",
       "      <td>16.0</td>\n",
       "      <td>21.0</td>\n",
       "      <td>16.0</td>\n",
       "      <td>25.0</td>\n",
       "      <td>84.0</td>\n",
       "      <td>5.0</td>\n",
       "      <td>18.0</td>\n",
       "      <td>56.0</td>\n",
       "      <td>0</td>\n",
       "      <td>0</td>\n",
       "      <td>New Orleans</td>\n",
       "    </tr>\n",
       "    <tr>\n",
       "      <th>3</th>\n",
       "      <td>10/28/2014_New Orleans_Orlando</td>\n",
       "      <td>4.0</td>\n",
       "      <td>17.0</td>\n",
       "      <td>20.0</td>\n",
       "      <td>17.0</td>\n",
       "      <td>41.0</td>\n",
       "      <td>101.0</td>\n",
       "      <td>15.0</td>\n",
       "      <td>31.0</td>\n",
       "      <td>26.0</td>\n",
       "      <td>17.0</td>\n",
       "      <td>101.0</td>\n",
       "      <td>10.0</td>\n",
       "      <td>9.0</td>\n",
       "      <td>62.0</td>\n",
       "      <td>1</td>\n",
       "      <td>1</td>\n",
       "      <td>Orlando</td>\n",
       "    </tr>\n",
       "    <tr>\n",
       "      <th>4</th>\n",
       "      <td>10/28/2014_San Antonio_Dallas</td>\n",
       "      <td>8.0</td>\n",
       "      <td>21.0</td>\n",
       "      <td>17.0</td>\n",
       "      <td>3.0</td>\n",
       "      <td>38.0</td>\n",
       "      <td>78.0</td>\n",
       "      <td>16.0</td>\n",
       "      <td>19.0</td>\n",
       "      <td>9.0</td>\n",
       "      <td>20.0</td>\n",
       "      <td>100.0</td>\n",
       "      <td>9.0</td>\n",
       "      <td>10.0</td>\n",
       "      <td>33.0</td>\n",
       "      <td>0</td>\n",
       "      <td>0</td>\n",
       "      <td>San Antonio</td>\n",
       "    </tr>\n",
       "  </tbody>\n",
       "</table>\n",
       "</div>"
      ],
      "text/plain": [
       "                            index    3P   3PA   AST   BLK    FG    FGA    FT  \\\n",
       "0    10/28/2014_LA Lakers_Houston  12.0  29.0  22.0   3.0  31.0   73.0  34.0   \n",
       "1    10/28/2014_LA Lakers_Houston   3.0  10.0  16.0   3.0  28.0   79.0  31.0   \n",
       "2  10/28/2014_New Orleans_Orlando   4.0  11.0  17.0   9.0  32.0   84.0  16.0   \n",
       "3  10/28/2014_New Orleans_Orlando   4.0  17.0  20.0  17.0  41.0  101.0  15.0   \n",
       "4   10/28/2014_San Antonio_Dallas   8.0  21.0  17.0   3.0  38.0   78.0  16.0   \n",
       "\n",
       "    FTA   ORB    PF    PTS   STL   TOV   TRB  is_Home  Team_Win         Team  \n",
       "0  50.0  14.0  30.0  108.0   7.0  13.0  47.0        0         1    LA Lakers  \n",
       "1  39.0  11.0  32.0   90.0   7.0  11.0  36.0        1         0      Houston  \n",
       "2  21.0  16.0  25.0   84.0   5.0  18.0  56.0        0         0  New Orleans  \n",
       "3  31.0  26.0  17.0  101.0  10.0   9.0  62.0        1         1      Orlando  \n",
       "4  19.0   9.0  20.0  100.0   9.0  10.0  33.0        0         0  San Antonio  "
      ]
     },
     "execution_count": 318,
     "metadata": {},
     "output_type": "execute_result"
    }
   ],
   "source": [
    "team_data.head()"
   ]
  },
  {
   "cell_type": "code",
   "execution_count": 319,
   "metadata": {
    "collapsed": false,
    "scrolled": true
   },
   "outputs": [],
   "source": [
    "both_teams_total = team_data.groupby('index',sort=False).sum().reset_index()\n",
    "##doing weird things. \n",
    "weird = pd.merge(both_teams_total,team_data,on='index')"
   ]
  },
  {
   "cell_type": "code",
   "execution_count": 320,
   "metadata": {
    "collapsed": false
   },
   "outputs": [],
   "source": [
    "#fill in opponent data in an insufficient way\n",
    "team_data['opp_3P'] = weird['3P_x']-team_data['3P']\n",
    "team_data['opp_3PA'] = weird['3PA_x']-team_data['3PA']\n",
    "team_data['opp_AST'] = weird['AST_x']-team_data['AST']\n",
    "team_data['opp_BLK'] = weird['BLK_x']-team_data['BLK']\n",
    "team_data['opp_FG'] = weird['FG_x']-team_data['FG']\n",
    "team_data['opp_FGA'] = weird['FGA_x']-team_data['FGA']\n",
    "team_data['opp_FT'] = weird['FT_x']-team_data['FT']\n",
    "team_data['opp_FTA'] = weird['FTA_x']-team_data['FTA']\n",
    "team_data['opp_PTS'] = weird['PTS_x']-team_data['PTS']\n",
    "team_data['opp_ORB'] = weird['ORB_x']-team_data['ORB']\n",
    "team_data['opp_STL'] = weird['STL_x']-team_data['STL']\n",
    "team_data['opp_PF'] = weird['PF_x']-team_data['PF']\n",
    "team_data['opp_TOV'] = weird['TOV_x']-team_data['TOV']"
   ]
  },
  {
   "cell_type": "code",
   "execution_count": 321,
   "metadata": {
    "collapsed": false
   },
   "outputs": [],
   "source": [
    "def opponent(row):\n",
    "    if row['Team'] == row['index'].split('_')[1]:\n",
    "        return row['index'].split('_')[2]\n",
    "    else:\n",
    "        return row['index'].split('_')[1]"
   ]
  },
  {
   "cell_type": "code",
   "execution_count": 322,
   "metadata": {
    "collapsed": false
   },
   "outputs": [],
   "source": [
    "team_data['opponent'] =team_data.apply(opponent, axis=1)"
   ]
  },
  {
   "cell_type": "code",
   "execution_count": 323,
   "metadata": {
    "collapsed": false
   },
   "outputs": [],
   "source": [
    "team_data['Game_Id'] = team_data['index']\n",
    "team_data.drop('index',axis=1, inplace=True)"
   ]
  },
  {
   "cell_type": "code",
   "execution_count": 214,
   "metadata": {
    "collapsed": true
   },
   "outputs": [],
   "source": []
  },
  {
   "cell_type": "code",
   "execution_count": 324,
   "metadata": {
    "collapsed": true
   },
   "outputs": [],
   "source": [
    "##get rid of games that are playoffs\n",
    "team_data = team_data.iloc[:2460]\n",
    "team_data.to_csv('team_boxscores_2014.csv')"
   ]
  },
  {
   "cell_type": "code",
   "execution_count": 258,
   "metadata": {
    "collapsed": false
   },
   "outputs": [],
   "source": [
    "df = pd.read_csv('nba_player_data_2015.csv')\n",
    "df = df.iloc[:31430]\n",
    "df.to_csv('correct_nba_player_data_2015.csv')"
   ]
  }
 ],
 "metadata": {
  "kernelspec": {
   "display_name": "Python 2",
   "language": "python",
   "name": "python2"
  },
  "language_info": {
   "codemirror_mode": {
    "name": "ipython",
    "version": 2
   },
   "file_extension": ".py",
   "mimetype": "text/x-python",
   "name": "python",
   "nbconvert_exporter": "python",
   "pygments_lexer": "ipython2",
   "version": "2.7.13"
  }
 },
 "nbformat": 4,
 "nbformat_minor": 2
}
