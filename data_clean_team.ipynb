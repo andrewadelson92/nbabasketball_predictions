{
 "cells": [
  {
   "cell_type": "code",
   "execution_count": 176,
   "metadata": {
    "collapsed": true
   },
   "outputs": [],
   "source": [
    "import pandas as pd"
   ]
  },
  {
   "cell_type": "code",
   "execution_count": 382,
   "metadata": {
    "collapsed": false
   },
   "outputs": [],
   "source": [
    "df = pd.read_csv('Nba_player_data_2013.csv')"
   ]
  },
  {
   "cell_type": "code",
   "execution_count": 383,
   "metadata": {
    "collapsed": false
   },
   "outputs": [
    {
     "data": {
      "text/html": [
       "<div>\n",
       "<table border=\"1\" class=\"dataframe\">\n",
       "  <thead>\n",
       "    <tr style=\"text-align: right;\">\n",
       "      <th></th>\n",
       "      <th>Unnamed: 0</th>\n",
       "      <th>+/1</th>\n",
       "      <th>3P</th>\n",
       "      <th>3PA</th>\n",
       "      <th>AST</th>\n",
       "      <th>BLK</th>\n",
       "      <th>Date</th>\n",
       "      <th>FG</th>\n",
       "      <th>FGA</th>\n",
       "      <th>FT</th>\n",
       "      <th>...</th>\n",
       "      <th>TOV</th>\n",
       "      <th>TRB</th>\n",
       "      <th>Team</th>\n",
       "      <th>minutes</th>\n",
       "      <th>name</th>\n",
       "      <th>opp_score</th>\n",
       "      <th>started</th>\n",
       "      <th>team_score</th>\n",
       "      <th>is_Home</th>\n",
       "      <th>Team_Win</th>\n",
       "    </tr>\n",
       "  </thead>\n",
       "  <tbody>\n",
       "    <tr>\n",
       "      <th>0</th>\n",
       "      <td>0</td>\n",
       "      <td>-14.0</td>\n",
       "      <td>1.0</td>\n",
       "      <td>5.0</td>\n",
       "      <td>1.0</td>\n",
       "      <td>0.0</td>\n",
       "      <td>10/29/2013</td>\n",
       "      <td>3.0</td>\n",
       "      <td>14.0</td>\n",
       "      <td>2.0</td>\n",
       "      <td>...</td>\n",
       "      <td>1.0</td>\n",
       "      <td>3.0</td>\n",
       "      <td>Orlando</td>\n",
       "      <td>32:59</td>\n",
       "      <td>Arron Afflalo</td>\n",
       "      <td>97</td>\n",
       "      <td>1</td>\n",
       "      <td>87</td>\n",
       "      <td>0</td>\n",
       "      <td>0</td>\n",
       "    </tr>\n",
       "    <tr>\n",
       "      <th>1</th>\n",
       "      <td>1</td>\n",
       "      <td>-22.0</td>\n",
       "      <td>0.0</td>\n",
       "      <td>0.0</td>\n",
       "      <td>3.0</td>\n",
       "      <td>1.0</td>\n",
       "      <td>10/29/2013</td>\n",
       "      <td>4.0</td>\n",
       "      <td>11.0</td>\n",
       "      <td>0.0</td>\n",
       "      <td>...</td>\n",
       "      <td>5.0</td>\n",
       "      <td>10.0</td>\n",
       "      <td>Orlando</td>\n",
       "      <td>30:39</td>\n",
       "      <td>Nikola Vucevic</td>\n",
       "      <td>97</td>\n",
       "      <td>1</td>\n",
       "      <td>87</td>\n",
       "      <td>0</td>\n",
       "      <td>0</td>\n",
       "    </tr>\n",
       "    <tr>\n",
       "      <th>2</th>\n",
       "      <td>2</td>\n",
       "      <td>-11.0</td>\n",
       "      <td>3.0</td>\n",
       "      <td>7.0</td>\n",
       "      <td>7.0</td>\n",
       "      <td>0.0</td>\n",
       "      <td>10/29/2013</td>\n",
       "      <td>4.0</td>\n",
       "      <td>13.0</td>\n",
       "      <td>1.0</td>\n",
       "      <td>...</td>\n",
       "      <td>2.0</td>\n",
       "      <td>5.0</td>\n",
       "      <td>Orlando</td>\n",
       "      <td>30:34</td>\n",
       "      <td>Jameer Nelson</td>\n",
       "      <td>97</td>\n",
       "      <td>1</td>\n",
       "      <td>87</td>\n",
       "      <td>0</td>\n",
       "      <td>0</td>\n",
       "    </tr>\n",
       "    <tr>\n",
       "      <th>3</th>\n",
       "      <td>3</td>\n",
       "      <td>-15.0</td>\n",
       "      <td>0.0</td>\n",
       "      <td>0.0</td>\n",
       "      <td>0.0</td>\n",
       "      <td>2.0</td>\n",
       "      <td>10/29/2013</td>\n",
       "      <td>0.0</td>\n",
       "      <td>5.0</td>\n",
       "      <td>0.0</td>\n",
       "      <td>...</td>\n",
       "      <td>2.0</td>\n",
       "      <td>5.0</td>\n",
       "      <td>Orlando</td>\n",
       "      <td>26:19</td>\n",
       "      <td>Jason Maxiell</td>\n",
       "      <td>97</td>\n",
       "      <td>1</td>\n",
       "      <td>87</td>\n",
       "      <td>0</td>\n",
       "      <td>0</td>\n",
       "    </tr>\n",
       "    <tr>\n",
       "      <th>4</th>\n",
       "      <td>4</td>\n",
       "      <td>-3.0</td>\n",
       "      <td>2.0</td>\n",
       "      <td>2.0</td>\n",
       "      <td>0.0</td>\n",
       "      <td>0.0</td>\n",
       "      <td>10/29/2013</td>\n",
       "      <td>6.0</td>\n",
       "      <td>13.0</td>\n",
       "      <td>0.0</td>\n",
       "      <td>...</td>\n",
       "      <td>0.0</td>\n",
       "      <td>1.0</td>\n",
       "      <td>Orlando</td>\n",
       "      <td>23:30</td>\n",
       "      <td>Maurice Harkless</td>\n",
       "      <td>97</td>\n",
       "      <td>1</td>\n",
       "      <td>87</td>\n",
       "      <td>0</td>\n",
       "      <td>0</td>\n",
       "    </tr>\n",
       "  </tbody>\n",
       "</table>\n",
       "<p>5 rows × 27 columns</p>\n",
       "</div>"
      ],
      "text/plain": [
       "   Unnamed: 0   +/1   3P  3PA  AST  BLK        Date   FG   FGA   FT   ...     \\\n",
       "0           0 -14.0  1.0  5.0  1.0  0.0  10/29/2013  3.0  14.0  2.0   ...      \n",
       "1           1 -22.0  0.0  0.0  3.0  1.0  10/29/2013  4.0  11.0  0.0   ...      \n",
       "2           2 -11.0  3.0  7.0  7.0  0.0  10/29/2013  4.0  13.0  1.0   ...      \n",
       "3           3 -15.0  0.0  0.0  0.0  2.0  10/29/2013  0.0   5.0  0.0   ...      \n",
       "4           4  -3.0  2.0  2.0  0.0  0.0  10/29/2013  6.0  13.0  0.0   ...      \n",
       "\n",
       "   TOV   TRB     Team minutes              name  opp_score  started  \\\n",
       "0  1.0   3.0  Orlando   32:59     Arron Afflalo         97        1   \n",
       "1  5.0  10.0  Orlando   30:39    Nikola Vucevic         97        1   \n",
       "2  2.0   5.0  Orlando   30:34     Jameer Nelson         97        1   \n",
       "3  2.0   5.0  Orlando   26:19     Jason Maxiell         97        1   \n",
       "4  0.0   1.0  Orlando   23:30  Maurice Harkless         97        1   \n",
       "\n",
       "   team_score  is_Home Team_Win  \n",
       "0          87        0        0  \n",
       "1          87        0        0  \n",
       "2          87        0        0  \n",
       "3          87        0        0  \n",
       "4          87        0        0  \n",
       "\n",
       "[5 rows x 27 columns]"
      ]
     },
     "execution_count": 383,
     "metadata": {},
     "output_type": "execute_result"
    }
   ],
   "source": [
    "df.head()"
   ]
  },
  {
   "cell_type": "code",
   "execution_count": 384,
   "metadata": {
    "collapsed": false
   },
   "outputs": [],
   "source": [
    "df.drop('Unnamed: 0', axis=1, inplace=True)"
   ]
  },
  {
   "cell_type": "code",
   "execution_count": 385,
   "metadata": {
    "collapsed": false
   },
   "outputs": [
    {
     "data": {
      "text/html": [
       "<div>\n",
       "<table border=\"1\" class=\"dataframe\">\n",
       "  <thead>\n",
       "    <tr style=\"text-align: right;\">\n",
       "      <th></th>\n",
       "      <th>+/1</th>\n",
       "      <th>3P</th>\n",
       "      <th>3PA</th>\n",
       "      <th>AST</th>\n",
       "      <th>BLK</th>\n",
       "      <th>Date</th>\n",
       "      <th>FG</th>\n",
       "      <th>FGA</th>\n",
       "      <th>FT</th>\n",
       "      <th>FTA</th>\n",
       "      <th>...</th>\n",
       "      <th>TOV</th>\n",
       "      <th>TRB</th>\n",
       "      <th>Team</th>\n",
       "      <th>minutes</th>\n",
       "      <th>name</th>\n",
       "      <th>opp_score</th>\n",
       "      <th>started</th>\n",
       "      <th>team_score</th>\n",
       "      <th>is_Home</th>\n",
       "      <th>Team_Win</th>\n",
       "    </tr>\n",
       "  </thead>\n",
       "  <tbody>\n",
       "    <tr>\n",
       "      <th>0</th>\n",
       "      <td>-14.0</td>\n",
       "      <td>1.0</td>\n",
       "      <td>5.0</td>\n",
       "      <td>1.0</td>\n",
       "      <td>0.0</td>\n",
       "      <td>10/29/2013</td>\n",
       "      <td>3.0</td>\n",
       "      <td>14.0</td>\n",
       "      <td>2.0</td>\n",
       "      <td>3.0</td>\n",
       "      <td>...</td>\n",
       "      <td>1.0</td>\n",
       "      <td>3.0</td>\n",
       "      <td>Orlando</td>\n",
       "      <td>32:59</td>\n",
       "      <td>Arron Afflalo</td>\n",
       "      <td>97</td>\n",
       "      <td>1</td>\n",
       "      <td>87</td>\n",
       "      <td>0</td>\n",
       "      <td>0</td>\n",
       "    </tr>\n",
       "    <tr>\n",
       "      <th>1</th>\n",
       "      <td>-22.0</td>\n",
       "      <td>0.0</td>\n",
       "      <td>0.0</td>\n",
       "      <td>3.0</td>\n",
       "      <td>1.0</td>\n",
       "      <td>10/29/2013</td>\n",
       "      <td>4.0</td>\n",
       "      <td>11.0</td>\n",
       "      <td>0.0</td>\n",
       "      <td>0.0</td>\n",
       "      <td>...</td>\n",
       "      <td>5.0</td>\n",
       "      <td>10.0</td>\n",
       "      <td>Orlando</td>\n",
       "      <td>30:39</td>\n",
       "      <td>Nikola Vucevic</td>\n",
       "      <td>97</td>\n",
       "      <td>1</td>\n",
       "      <td>87</td>\n",
       "      <td>0</td>\n",
       "      <td>0</td>\n",
       "    </tr>\n",
       "    <tr>\n",
       "      <th>2</th>\n",
       "      <td>-11.0</td>\n",
       "      <td>3.0</td>\n",
       "      <td>7.0</td>\n",
       "      <td>7.0</td>\n",
       "      <td>0.0</td>\n",
       "      <td>10/29/2013</td>\n",
       "      <td>4.0</td>\n",
       "      <td>13.0</td>\n",
       "      <td>1.0</td>\n",
       "      <td>1.0</td>\n",
       "      <td>...</td>\n",
       "      <td>2.0</td>\n",
       "      <td>5.0</td>\n",
       "      <td>Orlando</td>\n",
       "      <td>30:34</td>\n",
       "      <td>Jameer Nelson</td>\n",
       "      <td>97</td>\n",
       "      <td>1</td>\n",
       "      <td>87</td>\n",
       "      <td>0</td>\n",
       "      <td>0</td>\n",
       "    </tr>\n",
       "    <tr>\n",
       "      <th>3</th>\n",
       "      <td>-15.0</td>\n",
       "      <td>0.0</td>\n",
       "      <td>0.0</td>\n",
       "      <td>0.0</td>\n",
       "      <td>2.0</td>\n",
       "      <td>10/29/2013</td>\n",
       "      <td>0.0</td>\n",
       "      <td>5.0</td>\n",
       "      <td>0.0</td>\n",
       "      <td>0.0</td>\n",
       "      <td>...</td>\n",
       "      <td>2.0</td>\n",
       "      <td>5.0</td>\n",
       "      <td>Orlando</td>\n",
       "      <td>26:19</td>\n",
       "      <td>Jason Maxiell</td>\n",
       "      <td>97</td>\n",
       "      <td>1</td>\n",
       "      <td>87</td>\n",
       "      <td>0</td>\n",
       "      <td>0</td>\n",
       "    </tr>\n",
       "    <tr>\n",
       "      <th>4</th>\n",
       "      <td>-3.0</td>\n",
       "      <td>2.0</td>\n",
       "      <td>2.0</td>\n",
       "      <td>0.0</td>\n",
       "      <td>0.0</td>\n",
       "      <td>10/29/2013</td>\n",
       "      <td>6.0</td>\n",
       "      <td>13.0</td>\n",
       "      <td>0.0</td>\n",
       "      <td>1.0</td>\n",
       "      <td>...</td>\n",
       "      <td>0.0</td>\n",
       "      <td>1.0</td>\n",
       "      <td>Orlando</td>\n",
       "      <td>23:30</td>\n",
       "      <td>Maurice Harkless</td>\n",
       "      <td>97</td>\n",
       "      <td>1</td>\n",
       "      <td>87</td>\n",
       "      <td>0</td>\n",
       "      <td>0</td>\n",
       "    </tr>\n",
       "  </tbody>\n",
       "</table>\n",
       "<p>5 rows × 26 columns</p>\n",
       "</div>"
      ],
      "text/plain": [
       "    +/1   3P  3PA  AST  BLK        Date   FG   FGA   FT  FTA   ...     TOV  \\\n",
       "0 -14.0  1.0  5.0  1.0  0.0  10/29/2013  3.0  14.0  2.0  3.0   ...     1.0   \n",
       "1 -22.0  0.0  0.0  3.0  1.0  10/29/2013  4.0  11.0  0.0  0.0   ...     5.0   \n",
       "2 -11.0  3.0  7.0  7.0  0.0  10/29/2013  4.0  13.0  1.0  1.0   ...     2.0   \n",
       "3 -15.0  0.0  0.0  0.0  2.0  10/29/2013  0.0   5.0  0.0  0.0   ...     2.0   \n",
       "4  -3.0  2.0  2.0  0.0  0.0  10/29/2013  6.0  13.0  0.0  1.0   ...     0.0   \n",
       "\n",
       "    TRB     Team  minutes              name  opp_score  started  team_score  \\\n",
       "0   3.0  Orlando    32:59     Arron Afflalo         97        1          87   \n",
       "1  10.0  Orlando    30:39    Nikola Vucevic         97        1          87   \n",
       "2   5.0  Orlando    30:34     Jameer Nelson         97        1          87   \n",
       "3   5.0  Orlando    26:19     Jason Maxiell         97        1          87   \n",
       "4   1.0  Orlando    23:30  Maurice Harkless         97        1          87   \n",
       "\n",
       "  is_Home Team_Win  \n",
       "0       0        0  \n",
       "1       0        0  \n",
       "2       0        0  \n",
       "3       0        0  \n",
       "4       0        0  \n",
       "\n",
       "[5 rows x 26 columns]"
      ]
     },
     "execution_count": 385,
     "metadata": {},
     "output_type": "execute_result"
    }
   ],
   "source": [
    "df.head()"
   ]
  },
  {
   "cell_type": "code",
   "execution_count": 386,
   "metadata": {
    "collapsed": false
   },
   "outputs": [],
   "source": [
    "df['spread'] = df['team_score']-df['opp_score']"
   ]
  },
  {
   "cell_type": "code",
   "execution_count": 387,
   "metadata": {
    "collapsed": false
   },
   "outputs": [
    {
     "data": {
      "text/plain": [
       "Index([u'+/1', u'3P', u'3PA', u'AST', u'BLK', u'Date', u'FG', u'FGA', u'FT',\n",
       "       u'FTA', u'Game_Id', u'ORB', u'Opponent', u'PF', u'PTS', u'STL', u'TOV',\n",
       "       u'TRB', u'Team', u'minutes', u'name', u'opp_score', u'started',\n",
       "       u'team_score', u'is_Home', u'Team_Win', u'spread'],\n",
       "      dtype='object')"
      ]
     },
     "execution_count": 387,
     "metadata": {},
     "output_type": "execute_result"
    }
   ],
   "source": [
    "df.columns"
   ]
  },
  {
   "cell_type": "code",
   "execution_count": 388,
   "metadata": {
    "collapsed": false
   },
   "outputs": [],
   "source": [
    "groups= df.groupby(['Game_Id','Team'],sort=False).sum()"
   ]
  },
  {
   "cell_type": "code",
   "execution_count": 389,
   "metadata": {
    "collapsed": false
   },
   "outputs": [
    {
     "data": {
      "text/html": [
       "<div>\n",
       "<table border=\"1\" class=\"dataframe\">\n",
       "  <thead>\n",
       "    <tr style=\"text-align: right;\">\n",
       "      <th></th>\n",
       "      <th></th>\n",
       "      <th>+/1</th>\n",
       "      <th>3P</th>\n",
       "      <th>3PA</th>\n",
       "      <th>AST</th>\n",
       "      <th>BLK</th>\n",
       "      <th>FG</th>\n",
       "      <th>FGA</th>\n",
       "      <th>FT</th>\n",
       "      <th>FTA</th>\n",
       "      <th>ORB</th>\n",
       "      <th>...</th>\n",
       "      <th>PTS</th>\n",
       "      <th>STL</th>\n",
       "      <th>TOV</th>\n",
       "      <th>TRB</th>\n",
       "      <th>opp_score</th>\n",
       "      <th>started</th>\n",
       "      <th>team_score</th>\n",
       "      <th>is_Home</th>\n",
       "      <th>Team_Win</th>\n",
       "      <th>spread</th>\n",
       "    </tr>\n",
       "    <tr>\n",
       "      <th>Game_Id</th>\n",
       "      <th>Team</th>\n",
       "      <th></th>\n",
       "      <th></th>\n",
       "      <th></th>\n",
       "      <th></th>\n",
       "      <th></th>\n",
       "      <th></th>\n",
       "      <th></th>\n",
       "      <th></th>\n",
       "      <th></th>\n",
       "      <th></th>\n",
       "      <th></th>\n",
       "      <th></th>\n",
       "      <th></th>\n",
       "      <th></th>\n",
       "      <th></th>\n",
       "      <th></th>\n",
       "      <th></th>\n",
       "      <th></th>\n",
       "      <th></th>\n",
       "      <th></th>\n",
       "      <th></th>\n",
       "    </tr>\n",
       "  </thead>\n",
       "  <tbody>\n",
       "    <tr>\n",
       "      <th rowspan=\"2\" valign=\"top\">10/29/2013_Indiana_Orlando</th>\n",
       "      <th>Orlando</th>\n",
       "      <td>-50.0</td>\n",
       "      <td>9.0</td>\n",
       "      <td>19.0</td>\n",
       "      <td>17.0</td>\n",
       "      <td>6.0</td>\n",
       "      <td>36.0</td>\n",
       "      <td>93.0</td>\n",
       "      <td>6.0</td>\n",
       "      <td>10.0</td>\n",
       "      <td>13.0</td>\n",
       "      <td>...</td>\n",
       "      <td>87.0</td>\n",
       "      <td>10.0</td>\n",
       "      <td>17.0</td>\n",
       "      <td>39.0</td>\n",
       "      <td>1261</td>\n",
       "      <td>5</td>\n",
       "      <td>1131</td>\n",
       "      <td>0</td>\n",
       "      <td>0</td>\n",
       "      <td>-130</td>\n",
       "    </tr>\n",
       "    <tr>\n",
       "      <th>Indiana</th>\n",
       "      <td>50.0</td>\n",
       "      <td>7.0</td>\n",
       "      <td>17.0</td>\n",
       "      <td>17.0</td>\n",
       "      <td>18.0</td>\n",
       "      <td>34.0</td>\n",
       "      <td>71.0</td>\n",
       "      <td>22.0</td>\n",
       "      <td>32.0</td>\n",
       "      <td>10.0</td>\n",
       "      <td>...</td>\n",
       "      <td>97.0</td>\n",
       "      <td>4.0</td>\n",
       "      <td>20.0</td>\n",
       "      <td>44.0</td>\n",
       "      <td>1131</td>\n",
       "      <td>5</td>\n",
       "      <td>1261</td>\n",
       "      <td>13</td>\n",
       "      <td>13</td>\n",
       "      <td>130</td>\n",
       "    </tr>\n",
       "    <tr>\n",
       "      <th rowspan=\"2\" valign=\"top\">10/29/2013_LA Lakers_LA Clippers</th>\n",
       "      <th>LA Clippers</th>\n",
       "      <td>-65.0</td>\n",
       "      <td>8.0</td>\n",
       "      <td>21.0</td>\n",
       "      <td>27.0</td>\n",
       "      <td>4.0</td>\n",
       "      <td>41.0</td>\n",
       "      <td>83.0</td>\n",
       "      <td>13.0</td>\n",
       "      <td>23.0</td>\n",
       "      <td>10.0</td>\n",
       "      <td>...</td>\n",
       "      <td>103.0</td>\n",
       "      <td>11.0</td>\n",
       "      <td>16.0</td>\n",
       "      <td>40.0</td>\n",
       "      <td>1508</td>\n",
       "      <td>5</td>\n",
       "      <td>1339</td>\n",
       "      <td>0</td>\n",
       "      <td>0</td>\n",
       "      <td>-169</td>\n",
       "    </tr>\n",
       "    <tr>\n",
       "      <th>LA Lakers</th>\n",
       "      <td>65.0</td>\n",
       "      <td>14.0</td>\n",
       "      <td>29.0</td>\n",
       "      <td>23.0</td>\n",
       "      <td>6.0</td>\n",
       "      <td>42.0</td>\n",
       "      <td>93.0</td>\n",
       "      <td>18.0</td>\n",
       "      <td>28.0</td>\n",
       "      <td>18.0</td>\n",
       "      <td>...</td>\n",
       "      <td>116.0</td>\n",
       "      <td>8.0</td>\n",
       "      <td>19.0</td>\n",
       "      <td>52.0</td>\n",
       "      <td>1339</td>\n",
       "      <td>5</td>\n",
       "      <td>1508</td>\n",
       "      <td>13</td>\n",
       "      <td>13</td>\n",
       "      <td>169</td>\n",
       "    </tr>\n",
       "    <tr>\n",
       "      <th>10/29/2013_Miami_Chicago</th>\n",
       "      <th>Chicago</th>\n",
       "      <td>-60.0</td>\n",
       "      <td>7.0</td>\n",
       "      <td>26.0</td>\n",
       "      <td>23.0</td>\n",
       "      <td>4.0</td>\n",
       "      <td>35.0</td>\n",
       "      <td>83.0</td>\n",
       "      <td>18.0</td>\n",
       "      <td>23.0</td>\n",
       "      <td>11.0</td>\n",
       "      <td>...</td>\n",
       "      <td>95.0</td>\n",
       "      <td>11.0</td>\n",
       "      <td>18.0</td>\n",
       "      <td>41.0</td>\n",
       "      <td>1391</td>\n",
       "      <td>5</td>\n",
       "      <td>1235</td>\n",
       "      <td>0</td>\n",
       "      <td>0</td>\n",
       "      <td>-156</td>\n",
       "    </tr>\n",
       "  </tbody>\n",
       "</table>\n",
       "<p>5 rows × 21 columns</p>\n",
       "</div>"
      ],
      "text/plain": [
       "                                               +/1    3P   3PA   AST   BLK  \\\n",
       "Game_Id                          Team                                        \n",
       "10/29/2013_Indiana_Orlando       Orlando     -50.0   9.0  19.0  17.0   6.0   \n",
       "                                 Indiana      50.0   7.0  17.0  17.0  18.0   \n",
       "10/29/2013_LA Lakers_LA Clippers LA Clippers -65.0   8.0  21.0  27.0   4.0   \n",
       "                                 LA Lakers    65.0  14.0  29.0  23.0   6.0   \n",
       "10/29/2013_Miami_Chicago         Chicago     -60.0   7.0  26.0  23.0   4.0   \n",
       "\n",
       "                                                FG   FGA    FT   FTA   ORB  \\\n",
       "Game_Id                          Team                                        \n",
       "10/29/2013_Indiana_Orlando       Orlando      36.0  93.0   6.0  10.0  13.0   \n",
       "                                 Indiana      34.0  71.0  22.0  32.0  10.0   \n",
       "10/29/2013_LA Lakers_LA Clippers LA Clippers  41.0  83.0  13.0  23.0  10.0   \n",
       "                                 LA Lakers    42.0  93.0  18.0  28.0  18.0   \n",
       "10/29/2013_Miami_Chicago         Chicago      35.0  83.0  18.0  23.0  11.0   \n",
       "\n",
       "                                               ...      PTS   STL   TOV   TRB  \\\n",
       "Game_Id                          Team          ...                              \n",
       "10/29/2013_Indiana_Orlando       Orlando       ...     87.0  10.0  17.0  39.0   \n",
       "                                 Indiana       ...     97.0   4.0  20.0  44.0   \n",
       "10/29/2013_LA Lakers_LA Clippers LA Clippers   ...    103.0  11.0  16.0  40.0   \n",
       "                                 LA Lakers     ...    116.0   8.0  19.0  52.0   \n",
       "10/29/2013_Miami_Chicago         Chicago       ...     95.0  11.0  18.0  41.0   \n",
       "\n",
       "                                              opp_score  started  team_score  \\\n",
       "Game_Id                          Team                                          \n",
       "10/29/2013_Indiana_Orlando       Orlando           1261        5        1131   \n",
       "                                 Indiana           1131        5        1261   \n",
       "10/29/2013_LA Lakers_LA Clippers LA Clippers       1508        5        1339   \n",
       "                                 LA Lakers         1339        5        1508   \n",
       "10/29/2013_Miami_Chicago         Chicago           1391        5        1235   \n",
       "\n",
       "                                              is_Home  Team_Win  spread  \n",
       "Game_Id                          Team                                    \n",
       "10/29/2013_Indiana_Orlando       Orlando            0         0    -130  \n",
       "                                 Indiana           13        13     130  \n",
       "10/29/2013_LA Lakers_LA Clippers LA Clippers        0         0    -169  \n",
       "                                 LA Lakers         13        13     169  \n",
       "10/29/2013_Miami_Chicago         Chicago            0         0    -156  \n",
       "\n",
       "[5 rows x 21 columns]"
      ]
     },
     "execution_count": 389,
     "metadata": {},
     "output_type": "execute_result"
    }
   ],
   "source": [
    "groups.head()"
   ]
  },
  {
   "cell_type": "code",
   "execution_count": 390,
   "metadata": {
    "collapsed": false
   },
   "outputs": [],
   "source": [
    "matrix = groups.as_matrix()"
   ]
  },
  {
   "cell_type": "code",
   "execution_count": 391,
   "metadata": {
    "collapsed": false
   },
   "outputs": [
    {
     "data": {
      "text/plain": [
       "['10/29/2013_Indiana_Orlando%aaIndiana',\n",
       " '10/29/2013_Indiana_Orlando%aaOrlando',\n",
       " '10/29/2013_LA Lakers_LA Clippers%aaLA Lakers',\n",
       " '10/29/2013_LA Lakers_LA Clippers%aaLA Clippers',\n",
       " '10/29/2013_Miami_Chicago%aaMiami',\n",
       " '10/29/2013_Miami_Chicago%aaChicago',\n",
       " '10/30/2013_Cleveland_Brooklyn%aaCleveland',\n",
       " '10/30/2013_Cleveland_Brooklyn%aaBrooklyn',\n",
       " '10/30/2013_Dallas_Atlanta%aaDallas',\n",
       " '10/30/2013_Dallas_Atlanta%aaAtlanta']"
      ]
     },
     "execution_count": 391,
     "metadata": {},
     "output_type": "execute_result"
    }
   ],
   "source": [
    "ids = []\n",
    "for game in df['Game_Id'].unique():\n",
    "    ids.append(game+ '%aa'+game.split('_')[1])\n",
    "    ids.append(game+ '%aa'+game.split('_')[2])\n",
    "ids[0:10]"
   ]
  },
  {
   "cell_type": "code",
   "execution_count": 392,
   "metadata": {
    "collapsed": false
   },
   "outputs": [
    {
     "data": {
      "text/plain": [
       "2538"
      ]
     },
     "execution_count": 392,
     "metadata": {},
     "output_type": "execute_result"
    }
   ],
   "source": [
    "len(matrix)"
   ]
  },
  {
   "cell_type": "code",
   "execution_count": 368,
   "metadata": {
    "collapsed": false
   },
   "outputs": [],
   "source": [
    "new_frame = pd.DataFrame(matrix, columns = groups.columns, index = ids)"
   ]
  },
  {
   "cell_type": "code",
   "execution_count": 369,
   "metadata": {
    "collapsed": false
   },
   "outputs": [],
   "source": [
    "team_data = new_frame[['3P','3PA', 'AST', 'BLK', 'FG', 'FGA', 'FT', 'FTA', 'ORB',\n",
    "       'PF', 'PTS', 'STL', 'TOV', 'TRB','is_Home','Team_Win']]"
   ]
  },
  {
   "cell_type": "code",
   "execution_count": 370,
   "metadata": {
    "collapsed": false
   },
   "outputs": [],
   "source": [
    "team_data = team_data.reset_index()"
   ]
  },
  {
   "cell_type": "code",
   "execution_count": 371,
   "metadata": {
    "collapsed": false
   },
   "outputs": [],
   "source": [
    "team_data['Team'] = team_data['index'].apply(lambda x: x.split('%aa')[1])"
   ]
  },
  {
   "cell_type": "code",
   "execution_count": 372,
   "metadata": {
    "collapsed": false
   },
   "outputs": [],
   "source": [
    "team_data['index'] = team_data['index'].apply(lambda x: x.split('%aa')[0])"
   ]
  },
  {
   "cell_type": "code",
   "execution_count": 373,
   "metadata": {
    "collapsed": false
   },
   "outputs": [],
   "source": [
    "team_data['is_Home'] = team_data['is_Home'].apply(lambda x: x>0).astype(int)\n",
    "team_data['Team_Win'] = team_data['Team_Win'].apply(lambda x: x>0).astype(int)"
   ]
  },
  {
   "cell_type": "code",
   "execution_count": 374,
   "metadata": {
    "collapsed": false
   },
   "outputs": [
    {
     "data": {
      "text/html": [
       "<div>\n",
       "<table border=\"1\" class=\"dataframe\">\n",
       "  <thead>\n",
       "    <tr style=\"text-align: right;\">\n",
       "      <th></th>\n",
       "      <th>index</th>\n",
       "      <th>3P</th>\n",
       "      <th>3PA</th>\n",
       "      <th>AST</th>\n",
       "      <th>BLK</th>\n",
       "      <th>FG</th>\n",
       "      <th>FGA</th>\n",
       "      <th>FT</th>\n",
       "      <th>FTA</th>\n",
       "      <th>ORB</th>\n",
       "      <th>PF</th>\n",
       "      <th>PTS</th>\n",
       "      <th>STL</th>\n",
       "      <th>TOV</th>\n",
       "      <th>TRB</th>\n",
       "      <th>is_Home</th>\n",
       "      <th>Team_Win</th>\n",
       "      <th>Team</th>\n",
       "    </tr>\n",
       "  </thead>\n",
       "  <tbody>\n",
       "    <tr>\n",
       "      <th>0</th>\n",
       "      <td>10/28/2014_LA Lakers_Houston</td>\n",
       "      <td>12.0</td>\n",
       "      <td>29.0</td>\n",
       "      <td>22.0</td>\n",
       "      <td>3.0</td>\n",
       "      <td>31.0</td>\n",
       "      <td>73.0</td>\n",
       "      <td>34.0</td>\n",
       "      <td>50.0</td>\n",
       "      <td>14.0</td>\n",
       "      <td>30.0</td>\n",
       "      <td>108.0</td>\n",
       "      <td>7.0</td>\n",
       "      <td>13.0</td>\n",
       "      <td>47.0</td>\n",
       "      <td>0</td>\n",
       "      <td>1</td>\n",
       "      <td>LA Lakers</td>\n",
       "    </tr>\n",
       "    <tr>\n",
       "      <th>1</th>\n",
       "      <td>10/28/2014_LA Lakers_Houston</td>\n",
       "      <td>3.0</td>\n",
       "      <td>10.0</td>\n",
       "      <td>16.0</td>\n",
       "      <td>3.0</td>\n",
       "      <td>28.0</td>\n",
       "      <td>79.0</td>\n",
       "      <td>31.0</td>\n",
       "      <td>39.0</td>\n",
       "      <td>11.0</td>\n",
       "      <td>32.0</td>\n",
       "      <td>90.0</td>\n",
       "      <td>7.0</td>\n",
       "      <td>11.0</td>\n",
       "      <td>36.0</td>\n",
       "      <td>1</td>\n",
       "      <td>0</td>\n",
       "      <td>Houston</td>\n",
       "    </tr>\n",
       "    <tr>\n",
       "      <th>2</th>\n",
       "      <td>10/28/2014_New Orleans_Orlando</td>\n",
       "      <td>4.0</td>\n",
       "      <td>11.0</td>\n",
       "      <td>17.0</td>\n",
       "      <td>9.0</td>\n",
       "      <td>32.0</td>\n",
       "      <td>84.0</td>\n",
       "      <td>16.0</td>\n",
       "      <td>21.0</td>\n",
       "      <td>16.0</td>\n",
       "      <td>25.0</td>\n",
       "      <td>84.0</td>\n",
       "      <td>5.0</td>\n",
       "      <td>18.0</td>\n",
       "      <td>56.0</td>\n",
       "      <td>0</td>\n",
       "      <td>0</td>\n",
       "      <td>New Orleans</td>\n",
       "    </tr>\n",
       "    <tr>\n",
       "      <th>3</th>\n",
       "      <td>10/28/2014_New Orleans_Orlando</td>\n",
       "      <td>4.0</td>\n",
       "      <td>17.0</td>\n",
       "      <td>20.0</td>\n",
       "      <td>17.0</td>\n",
       "      <td>41.0</td>\n",
       "      <td>101.0</td>\n",
       "      <td>15.0</td>\n",
       "      <td>31.0</td>\n",
       "      <td>26.0</td>\n",
       "      <td>17.0</td>\n",
       "      <td>101.0</td>\n",
       "      <td>10.0</td>\n",
       "      <td>9.0</td>\n",
       "      <td>62.0</td>\n",
       "      <td>1</td>\n",
       "      <td>1</td>\n",
       "      <td>Orlando</td>\n",
       "    </tr>\n",
       "    <tr>\n",
       "      <th>4</th>\n",
       "      <td>10/28/2014_San Antonio_Dallas</td>\n",
       "      <td>8.0</td>\n",
       "      <td>21.0</td>\n",
       "      <td>17.0</td>\n",
       "      <td>3.0</td>\n",
       "      <td>38.0</td>\n",
       "      <td>78.0</td>\n",
       "      <td>16.0</td>\n",
       "      <td>19.0</td>\n",
       "      <td>9.0</td>\n",
       "      <td>20.0</td>\n",
       "      <td>100.0</td>\n",
       "      <td>9.0</td>\n",
       "      <td>10.0</td>\n",
       "      <td>33.0</td>\n",
       "      <td>0</td>\n",
       "      <td>0</td>\n",
       "      <td>San Antonio</td>\n",
       "    </tr>\n",
       "  </tbody>\n",
       "</table>\n",
       "</div>"
      ],
      "text/plain": [
       "                            index    3P   3PA   AST   BLK    FG    FGA    FT  \\\n",
       "0    10/28/2014_LA Lakers_Houston  12.0  29.0  22.0   3.0  31.0   73.0  34.0   \n",
       "1    10/28/2014_LA Lakers_Houston   3.0  10.0  16.0   3.0  28.0   79.0  31.0   \n",
       "2  10/28/2014_New Orleans_Orlando   4.0  11.0  17.0   9.0  32.0   84.0  16.0   \n",
       "3  10/28/2014_New Orleans_Orlando   4.0  17.0  20.0  17.0  41.0  101.0  15.0   \n",
       "4   10/28/2014_San Antonio_Dallas   8.0  21.0  17.0   3.0  38.0   78.0  16.0   \n",
       "\n",
       "    FTA   ORB    PF    PTS   STL   TOV   TRB  is_Home  Team_Win         Team  \n",
       "0  50.0  14.0  30.0  108.0   7.0  13.0  47.0        0         1    LA Lakers  \n",
       "1  39.0  11.0  32.0   90.0   7.0  11.0  36.0        1         0      Houston  \n",
       "2  21.0  16.0  25.0   84.0   5.0  18.0  56.0        0         0  New Orleans  \n",
       "3  31.0  26.0  17.0  101.0  10.0   9.0  62.0        1         1      Orlando  \n",
       "4  19.0   9.0  20.0  100.0   9.0  10.0  33.0        0         0  San Antonio  "
      ]
     },
     "execution_count": 374,
     "metadata": {},
     "output_type": "execute_result"
    }
   ],
   "source": [
    "team_data.head()"
   ]
  },
  {
   "cell_type": "code",
   "execution_count": 375,
   "metadata": {
    "collapsed": false,
    "scrolled": true
   },
   "outputs": [],
   "source": [
    "both_teams_total = team_data.groupby('index',sort=False).sum().reset_index()\n",
    "##doing weird things. \n",
    "weird = pd.merge(both_teams_total,team_data,on='index')"
   ]
  },
  {
   "cell_type": "code",
   "execution_count": 376,
   "metadata": {
    "collapsed": false
   },
   "outputs": [],
   "source": [
    "#fill in opponent data in an insufficient way\n",
    "team_data['opp_3P'] = weird['3P_x']-team_data['3P']\n",
    "team_data['opp_3PA'] = weird['3PA_x']-team_data['3PA']\n",
    "team_data['opp_AST'] = weird['AST_x']-team_data['AST']\n",
    "team_data['opp_BLK'] = weird['BLK_x']-team_data['BLK']\n",
    "team_data['opp_FG'] = weird['FG_x']-team_data['FG']\n",
    "team_data['opp_FGA'] = weird['FGA_x']-team_data['FGA']\n",
    "team_data['opp_FT'] = weird['FT_x']-team_data['FT']\n",
    "team_data['opp_FTA'] = weird['FTA_x']-team_data['FTA']\n",
    "team_data['opp_PTS'] = weird['PTS_x']-team_data['PTS']\n",
    "team_data['opp_ORB'] = weird['ORB_x']-team_data['ORB']\n",
    "team_data['opp_STL'] = weird['STL_x']-team_data['STL']\n",
    "team_data['opp_PF'] = weird['PF_x']-team_data['PF']\n",
    "team_data['opp_TOV'] = weird['TOV_x']-team_data['TOV']"
   ]
  },
  {
   "cell_type": "code",
   "execution_count": 377,
   "metadata": {
    "collapsed": false
   },
   "outputs": [],
   "source": [
    "def opponent(row):\n",
    "    if row['Team'] == row['index'].split('_')[1]:\n",
    "        return row['index'].split('_')[2]\n",
    "    else:\n",
    "        return row['index'].split('_')[1]"
   ]
  },
  {
   "cell_type": "code",
   "execution_count": 378,
   "metadata": {
    "collapsed": false
   },
   "outputs": [],
   "source": [
    "team_data['opponent'] =team_data.apply(opponent, axis=1)"
   ]
  },
  {
   "cell_type": "code",
   "execution_count": 379,
   "metadata": {
    "collapsed": false
   },
   "outputs": [],
   "source": [
    "team_data['Game_Id'] = team_data['index']\n",
    "team_data.drop('index',axis=1, inplace=True)"
   ]
  },
  {
   "cell_type": "code",
   "execution_count": 380,
   "metadata": {
    "collapsed": false
   },
   "outputs": [
    {
     "data": {
      "text/plain": [
       "(2460, 32)"
      ]
     },
     "execution_count": 380,
     "metadata": {},
     "output_type": "execute_result"
    }
   ],
   "source": [
    "team_data.shape"
   ]
  },
  {
   "cell_type": "code",
   "execution_count": 381,
   "metadata": {
    "collapsed": true
   },
   "outputs": [],
   "source": [
    "##get rid of games that are playoffs\n",
    "\n",
    "team_data.to_csv('team_boxscores_2014.csv')"
   ]
  },
  {
   "cell_type": "code",
   "execution_count": null,
   "metadata": {
    "collapsed": true
   },
   "outputs": [],
   "source": []
  }
 ],
 "metadata": {
  "kernelspec": {
   "display_name": "Python 2",
   "language": "python",
   "name": "python2"
  },
  "language_info": {
   "codemirror_mode": {
    "name": "ipython",
    "version": 2
   },
   "file_extension": ".py",
   "mimetype": "text/x-python",
   "name": "python",
   "nbconvert_exporter": "python",
   "pygments_lexer": "ipython2",
   "version": "2.7.13"
  }
 },
 "nbformat": 4,
 "nbformat_minor": 2
}
