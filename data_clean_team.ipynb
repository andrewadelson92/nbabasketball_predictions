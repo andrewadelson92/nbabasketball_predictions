{
 "cells": [
  {
   "cell_type": "code",
   "execution_count": 46,
   "metadata": {
    "collapsed": true
   },
   "outputs": [],
   "source": [
    "import pandas as pd"
   ]
  },
  {
   "cell_type": "code",
   "execution_count": 47,
   "metadata": {
    "collapsed": false
   },
   "outputs": [],
   "source": [
    "df = pd.read_csv('Nba_player_data_2016.csv')"
   ]
  },
  {
   "cell_type": "code",
   "execution_count": 49,
   "metadata": {
    "collapsed": false
   },
   "outputs": [],
   "source": [
    "df.drop('Unnamed: 0', axis=1, inplace=True)"
   ]
  },
  {
   "cell_type": "code",
   "execution_count": 51,
   "metadata": {
    "collapsed": false
   },
   "outputs": [],
   "source": [
    "df['spread'] = df['team_score']-df['opp_score']"
   ]
  },
  {
   "cell_type": "code",
   "execution_count": 53,
   "metadata": {
    "collapsed": false
   },
   "outputs": [],
   "source": [
    "groups= df.groupby(['Game_Id','Team'],sort=False).sum()"
   ]
  },
  {
   "cell_type": "code",
   "execution_count": 55,
   "metadata": {
    "collapsed": false
   },
   "outputs": [],
   "source": [
    "matrix = groups.as_matrix()"
   ]
  },
  {
   "cell_type": "code",
   "execution_count": 56,
   "metadata": {
    "collapsed": false
   },
   "outputs": [
    {
     "data": {
      "text/plain": [
       "['10/25/2016_Cleveland_New York%aaCleveland',\n",
       " '10/25/2016_Cleveland_New York%aaNew York',\n",
       " '10/25/2016_Golden State_San Antonio%aaGolden State',\n",
       " '10/25/2016_Golden State_San Antonio%aaSan Antonio',\n",
       " '10/25/2016_Portland_Utah%aaPortland',\n",
       " '10/25/2016_Portland_Utah%aaUtah',\n",
       " '10/26/2016_Boston_Brooklyn%aaBoston',\n",
       " '10/26/2016_Boston_Brooklyn%aaBrooklyn',\n",
       " '10/26/2016_Indiana_Dallas%aaIndiana',\n",
       " '10/26/2016_Indiana_Dallas%aaDallas']"
      ]
     },
     "execution_count": 56,
     "metadata": {},
     "output_type": "execute_result"
    }
   ],
   "source": [
    "ids = []\n",
    "for game in df['Game_Id'].unique():\n",
    "    ids.append(game+ '%aa'+game.split('_')[1])\n",
    "    ids.append(game+ '%aa'+game.split('_')[2])"
   ]
  },
  {
   "cell_type": "code",
   "execution_count": 58,
   "metadata": {
    "collapsed": false
   },
   "outputs": [],
   "source": [
    "new_frame = pd.DataFrame(matrix, columns = groups.columns, index = ids)"
   ]
  },
  {
   "cell_type": "code",
   "execution_count": 59,
   "metadata": {
    "collapsed": false
   },
   "outputs": [],
   "source": [
    "team_data = new_frame[['3P','3PA', 'AST', 'BLK', 'FG', 'FGA', 'FT', 'FTA', 'ORB',\n",
    "       'PF', 'PTS', 'STL', 'TOV', 'TRB','is_Home','Team_Win']]"
   ]
  },
  {
   "cell_type": "code",
   "execution_count": 60,
   "metadata": {
    "collapsed": false
   },
   "outputs": [],
   "source": [
    "team_data = team_data.reset_index()"
   ]
  },
  {
   "cell_type": "code",
   "execution_count": 61,
   "metadata": {
    "collapsed": false
   },
   "outputs": [],
   "source": [
    "team_data['Team'] = team_data['index'].apply(lambda x: x.split('%aa')[1])"
   ]
  },
  {
   "cell_type": "code",
   "execution_count": 62,
   "metadata": {
    "collapsed": false
   },
   "outputs": [],
   "source": [
    "team_data['index'] = team_data['index'].apply(lambda x: x.split('%aa')[0])"
   ]
  },
  {
   "cell_type": "code",
   "execution_count": 63,
   "metadata": {
    "collapsed": false
   },
   "outputs": [],
   "source": [
    "team_data['is_Home'] = team_data['is_Home'].apply(lambda x: x>0).astype(int)\n",
    "team_data['Team_Win'] = team_data['Team_Win'].apply(lambda x: x>0).astype(int)"
   ]
  },
  {
   "cell_type": "code",
   "execution_count": 65,
   "metadata": {
    "collapsed": false,
    "scrolled": true
   },
   "outputs": [],
   "source": [
    "both_teams_total = team_data.groupby('index',sort=False).sum().reset_index()\n",
    "##this gets all the opponents data on the same line\n",
    "weird = pd.merge(both_teams_total,team_data,on='index')"
   ]
  },
  {
   "cell_type": "code",
   "execution_count": 67,
   "metadata": {
    "collapsed": false
   },
   "outputs": [],
   "source": [
    "#fill in opponent data in an insufficient way\n",
    "team_data['opp_TRB'] = weird['TRB_x']-team_data['TRB']\n",
    "team_data['opp_3P'] = weird['3P_x']-team_data['3P']\n",
    "team_data['opp_3PA'] = weird['3PA_x']-team_data['3PA']\n",
    "team_data['opp_AST'] = weird['AST_x']-team_data['AST']\n",
    "team_data['opp_BLK'] = weird['BLK_x']-team_data['BLK']\n",
    "team_data['opp_FG'] = weird['FG_x']-team_data['FG']\n",
    "team_data['opp_FGA'] = weird['FGA_x']-team_data['FGA']\n",
    "team_data['opp_FT'] = weird['FT_x']-team_data['FT']\n",
    "team_data['opp_FTA'] = weird['FTA_x']-team_data['FTA']\n",
    "team_data['opp_PTS'] = weird['PTS_x']-team_data['PTS']\n",
    "team_data['opp_ORB'] = weird['ORB_x']-team_data['ORB']\n",
    "team_data['opp_STL'] = weird['STL_x']-team_data['STL']\n",
    "team_data['opp_PF'] = weird['PF_x']-team_data['PF']\n",
    "team_data['opp_TOV'] = weird['TOV_x']-team_data['TOV']"
   ]
  },
  {
   "cell_type": "code",
   "execution_count": 68,
   "metadata": {
    "collapsed": false
   },
   "outputs": [],
   "source": [
    "def opponent(row):\n",
    "    if row['Team'] == row['index'].split('_')[1]:\n",
    "        return row['index'].split('_')[2]\n",
    "    else:\n",
    "        return row['index'].split('_')[1]\n",
    "\n",
    "team_data['opponent'] =team_data.apply(opponent, axis=1)"
   ]
  },
  {
   "cell_type": "code",
   "execution_count": 70,
   "metadata": {
    "collapsed": false
   },
   "outputs": [],
   "source": [
    "team_data['Game_Id'] = team_data['index']\n",
    "team_data.drop('index',axis=1, inplace=True)"
   ]
  },
  {
   "cell_type": "code",
   "execution_count": 72,
   "metadata": {
    "collapsed": true
   },
   "outputs": [],
   "source": [
    "##get rid of games that are playoffs\n",
    "\n",
    "team_data.to_csv('team_boxscores_2016.csv')"
   ]
  },
  {
   "cell_type": "code",
   "execution_count": null,
   "metadata": {
    "collapsed": true
   },
   "outputs": [],
   "source": []
  }
 ],
 "metadata": {
  "kernelspec": {
   "display_name": "Python 2",
   "language": "python",
   "name": "python2"
  },
  "language_info": {
   "codemirror_mode": {
    "name": "ipython",
    "version": 2
   },
   "file_extension": ".py",
   "mimetype": "text/x-python",
   "name": "python",
   "nbconvert_exporter": "python",
   "pygments_lexer": "ipython2",
   "version": "2.7.13"
  }
 },
 "nbformat": 4,
 "nbformat_minor": 2
}
