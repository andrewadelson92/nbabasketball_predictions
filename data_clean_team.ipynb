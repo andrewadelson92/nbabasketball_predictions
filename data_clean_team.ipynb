{
 "cells": [
  {
   "cell_type": "code",
   "execution_count": 39,
   "metadata": {
    "collapsed": true
   },
   "outputs": [],
   "source": [
    "import pandas as pd"
   ]
  },
  {
   "cell_type": "code",
   "execution_count": 40,
   "metadata": {
    "collapsed": false
   },
   "outputs": [],
   "source": [
    "df = pd.read_csv('Nba_player_data_2013.csv')"
   ]
  },
  {
   "cell_type": "code",
   "execution_count": 41,
   "metadata": {
    "collapsed": false
   },
   "outputs": [],
   "source": [
    "df.drop('Unnamed: 0', axis=1, inplace=True)"
   ]
  },
  {
   "cell_type": "code",
   "execution_count": 42,
   "metadata": {
    "collapsed": false
   },
   "outputs": [],
   "source": [
    "df['spread'] = df['team_score']-df['opp_score']"
   ]
  },
  {
   "cell_type": "code",
   "execution_count": 43,
   "metadata": {
    "collapsed": false
   },
   "outputs": [],
   "source": [
    "groups= df.groupby(['Game_Id','Team'],sort=False).sum()"
   ]
  },
  {
   "cell_type": "code",
   "execution_count": 44,
   "metadata": {
    "collapsed": false
   },
   "outputs": [],
   "source": [
    "matrix = groups.as_matrix()"
   ]
  },
  {
   "cell_type": "code",
   "execution_count": 45,
   "metadata": {
    "collapsed": false
   },
   "outputs": [],
   "source": [
    "ids = []\n",
    "for game in df['Game_Id'].unique():\n",
    "    ids.append(game+ '%aa'+game.split('_')[1])\n",
    "    ids.append(game+ '%aa'+game.split('_')[2])"
   ]
  },
  {
   "cell_type": "code",
   "execution_count": 46,
   "metadata": {
    "collapsed": false
   },
   "outputs": [],
   "source": [
    "new_frame = pd.DataFrame(matrix, columns = groups.columns, index = ids)"
   ]
  },
  {
   "cell_type": "code",
   "execution_count": 47,
   "metadata": {
    "collapsed": false
   },
   "outputs": [],
   "source": [
    "team_data = new_frame[['3P','3PA', 'AST', 'BLK', 'FG', 'FGA', 'FT', 'FTA', 'ORB',\n",
    "       'PF', 'PTS', 'STL', 'TOV', 'TRB','is_Home','Team_Win']]"
   ]
  },
  {
   "cell_type": "code",
   "execution_count": 48,
   "metadata": {
    "collapsed": false
   },
   "outputs": [],
   "source": [
    "team_data = team_data.reset_index()"
   ]
  },
  {
   "cell_type": "code",
   "execution_count": 49,
   "metadata": {
    "collapsed": false
   },
   "outputs": [],
   "source": [
    "team_data['Team'] = team_data['index'].apply(lambda x: x.split('%aa')[1])"
   ]
  },
  {
   "cell_type": "code",
   "execution_count": 50,
   "metadata": {
    "collapsed": false
   },
   "outputs": [],
   "source": [
    "team_data['index'] = team_data['index'].apply(lambda x: x.split('%aa')[0])"
   ]
  },
  {
   "cell_type": "code",
   "execution_count": 51,
   "metadata": {
    "collapsed": false
   },
   "outputs": [],
   "source": [
    "team_data['is_Home'] = team_data['is_Home'].apply(lambda x: x>0).astype(int)\n",
    "team_data['Team_Win'] = team_data['Team_Win'].apply(lambda x: x>0).astype(int)"
   ]
  },
  {
   "cell_type": "code",
   "execution_count": 52,
   "metadata": {
    "collapsed": false,
    "scrolled": true
   },
   "outputs": [],
   "source": [
    "both_teams_total = team_data.groupby('index',sort=False).sum().reset_index()\n",
    "##this gets all the opponents data on the same line\n",
    "weird = pd.merge(both_teams_total,team_data,on='index')"
   ]
  },
  {
   "cell_type": "code",
   "execution_count": 53,
   "metadata": {
    "collapsed": false
   },
   "outputs": [],
   "source": [
    "#fill in opponent data in an insufficient way\n",
    "team_data['opp_TRB'] = weird['TRB_x']-team_data['TRB']\n",
    "team_data['opp_3P'] = weird['3P_x']-team_data['3P']\n",
    "team_data['opp_3PA'] = weird['3PA_x']-team_data['3PA']\n",
    "team_data['opp_AST'] = weird['AST_x']-team_data['AST']\n",
    "team_data['opp_BLK'] = weird['BLK_x']-team_data['BLK']\n",
    "team_data['opp_FG'] = weird['FG_x']-team_data['FG']\n",
    "team_data['opp_FGA'] = weird['FGA_x']-team_data['FGA']\n",
    "team_data['opp_FT'] = weird['FT_x']-team_data['FT']\n",
    "team_data['opp_FTA'] = weird['FTA_x']-team_data['FTA']\n",
    "team_data['opp_PTS'] = weird['PTS_x']-team_data['PTS']\n",
    "team_data['opp_ORB'] = weird['ORB_x']-team_data['ORB']\n",
    "team_data['opp_STL'] = weird['STL_x']-team_data['STL']\n",
    "team_data['opp_PF'] = weird['PF_x']-team_data['PF']\n",
    "team_data['opp_TOV'] = weird['TOV_x']-team_data['TOV']"
   ]
  },
  {
   "cell_type": "code",
   "execution_count": 54,
   "metadata": {
    "collapsed": false
   },
   "outputs": [],
   "source": [
    "def opponent(row):\n",
    "    if row['Team'] == row['index'].split('_')[1]:\n",
    "        return row['index'].split('_')[2]\n",
    "    else:\n",
    "        return row['index'].split('_')[1]\n",
    "\n",
    "team_data['opponent'] =team_data.apply(opponent, axis=1)"
   ]
  },
  {
   "cell_type": "code",
   "execution_count": 55,
   "metadata": {
    "collapsed": false
   },
   "outputs": [],
   "source": [
    "team_data['Game_Id'] = team_data['index']\n",
    "team_data.drop('index',axis=1, inplace=True)"
   ]
  },
  {
   "cell_type": "code",
   "execution_count": 56,
   "metadata": {
    "collapsed": true
   },
   "outputs": [],
   "source": [
    "##get rid of games that are playoffs\n",
    "\n",
    "team_data.to_csv('team_boxscores_2013.csv')"
   ]
  },
  {
   "cell_type": "code",
   "execution_count": 57,
   "metadata": {
    "collapsed": false
   },
   "outputs": [
    {
     "data": {
      "text/html": [
       "<div>\n",
       "<table border=\"1\" class=\"dataframe\">\n",
       "  <thead>\n",
       "    <tr style=\"text-align: right;\">\n",
       "      <th></th>\n",
       "      <th>3P</th>\n",
       "      <th>3PA</th>\n",
       "      <th>AST</th>\n",
       "      <th>BLK</th>\n",
       "      <th>FG</th>\n",
       "      <th>FGA</th>\n",
       "      <th>FT</th>\n",
       "      <th>FTA</th>\n",
       "      <th>ORB</th>\n",
       "      <th>PF</th>\n",
       "      <th>...</th>\n",
       "      <th>opp_FGA</th>\n",
       "      <th>opp_FT</th>\n",
       "      <th>opp_FTA</th>\n",
       "      <th>opp_PTS</th>\n",
       "      <th>opp_ORB</th>\n",
       "      <th>opp_STL</th>\n",
       "      <th>opp_PF</th>\n",
       "      <th>opp_TOV</th>\n",
       "      <th>opponent</th>\n",
       "      <th>Game_Id</th>\n",
       "    </tr>\n",
       "  </thead>\n",
       "  <tbody>\n",
       "    <tr>\n",
       "      <th>0</th>\n",
       "      <td>9.0</td>\n",
       "      <td>19.0</td>\n",
       "      <td>17.0</td>\n",
       "      <td>6.0</td>\n",
       "      <td>36.0</td>\n",
       "      <td>93.0</td>\n",
       "      <td>6.0</td>\n",
       "      <td>10.0</td>\n",
       "      <td>13.0</td>\n",
       "      <td>26.0</td>\n",
       "      <td>...</td>\n",
       "      <td>71.0</td>\n",
       "      <td>22.0</td>\n",
       "      <td>32.0</td>\n",
       "      <td>97.0</td>\n",
       "      <td>10.0</td>\n",
       "      <td>4.0</td>\n",
       "      <td>13.0</td>\n",
       "      <td>20.0</td>\n",
       "      <td>Orlando</td>\n",
       "      <td>10/29/2013_Indiana_Orlando</td>\n",
       "    </tr>\n",
       "    <tr>\n",
       "      <th>1</th>\n",
       "      <td>7.0</td>\n",
       "      <td>17.0</td>\n",
       "      <td>17.0</td>\n",
       "      <td>18.0</td>\n",
       "      <td>34.0</td>\n",
       "      <td>71.0</td>\n",
       "      <td>22.0</td>\n",
       "      <td>32.0</td>\n",
       "      <td>10.0</td>\n",
       "      <td>13.0</td>\n",
       "      <td>...</td>\n",
       "      <td>93.0</td>\n",
       "      <td>6.0</td>\n",
       "      <td>10.0</td>\n",
       "      <td>87.0</td>\n",
       "      <td>13.0</td>\n",
       "      <td>10.0</td>\n",
       "      <td>26.0</td>\n",
       "      <td>17.0</td>\n",
       "      <td>Indiana</td>\n",
       "      <td>10/29/2013_Indiana_Orlando</td>\n",
       "    </tr>\n",
       "    <tr>\n",
       "      <th>2</th>\n",
       "      <td>8.0</td>\n",
       "      <td>21.0</td>\n",
       "      <td>27.0</td>\n",
       "      <td>4.0</td>\n",
       "      <td>41.0</td>\n",
       "      <td>83.0</td>\n",
       "      <td>13.0</td>\n",
       "      <td>23.0</td>\n",
       "      <td>10.0</td>\n",
       "      <td>21.0</td>\n",
       "      <td>...</td>\n",
       "      <td>93.0</td>\n",
       "      <td>18.0</td>\n",
       "      <td>28.0</td>\n",
       "      <td>116.0</td>\n",
       "      <td>18.0</td>\n",
       "      <td>8.0</td>\n",
       "      <td>23.0</td>\n",
       "      <td>19.0</td>\n",
       "      <td>LA Clippers</td>\n",
       "      <td>10/29/2013_LA Lakers_LA Clippers</td>\n",
       "    </tr>\n",
       "    <tr>\n",
       "      <th>3</th>\n",
       "      <td>14.0</td>\n",
       "      <td>29.0</td>\n",
       "      <td>23.0</td>\n",
       "      <td>6.0</td>\n",
       "      <td>42.0</td>\n",
       "      <td>93.0</td>\n",
       "      <td>18.0</td>\n",
       "      <td>28.0</td>\n",
       "      <td>18.0</td>\n",
       "      <td>23.0</td>\n",
       "      <td>...</td>\n",
       "      <td>83.0</td>\n",
       "      <td>13.0</td>\n",
       "      <td>23.0</td>\n",
       "      <td>103.0</td>\n",
       "      <td>10.0</td>\n",
       "      <td>11.0</td>\n",
       "      <td>21.0</td>\n",
       "      <td>16.0</td>\n",
       "      <td>LA Lakers</td>\n",
       "      <td>10/29/2013_LA Lakers_LA Clippers</td>\n",
       "    </tr>\n",
       "    <tr>\n",
       "      <th>4</th>\n",
       "      <td>7.0</td>\n",
       "      <td>26.0</td>\n",
       "      <td>23.0</td>\n",
       "      <td>4.0</td>\n",
       "      <td>35.0</td>\n",
       "      <td>83.0</td>\n",
       "      <td>18.0</td>\n",
       "      <td>23.0</td>\n",
       "      <td>11.0</td>\n",
       "      <td>27.0</td>\n",
       "      <td>...</td>\n",
       "      <td>72.0</td>\n",
       "      <td>22.0</td>\n",
       "      <td>29.0</td>\n",
       "      <td>107.0</td>\n",
       "      <td>5.0</td>\n",
       "      <td>10.0</td>\n",
       "      <td>21.0</td>\n",
       "      <td>18.0</td>\n",
       "      <td>Chicago</td>\n",
       "      <td>10/29/2013_Miami_Chicago</td>\n",
       "    </tr>\n",
       "  </tbody>\n",
       "</table>\n",
       "<p>5 rows × 33 columns</p>\n",
       "</div>"
      ],
      "text/plain": [
       "     3P   3PA   AST   BLK    FG   FGA    FT   FTA   ORB    PF  \\\n",
       "0   9.0  19.0  17.0   6.0  36.0  93.0   6.0  10.0  13.0  26.0   \n",
       "1   7.0  17.0  17.0  18.0  34.0  71.0  22.0  32.0  10.0  13.0   \n",
       "2   8.0  21.0  27.0   4.0  41.0  83.0  13.0  23.0  10.0  21.0   \n",
       "3  14.0  29.0  23.0   6.0  42.0  93.0  18.0  28.0  18.0  23.0   \n",
       "4   7.0  26.0  23.0   4.0  35.0  83.0  18.0  23.0  11.0  27.0   \n",
       "\n",
       "                 ...                 opp_FGA  opp_FT  opp_FTA  opp_PTS  \\\n",
       "0                ...                    71.0    22.0     32.0     97.0   \n",
       "1                ...                    93.0     6.0     10.0     87.0   \n",
       "2                ...                    93.0    18.0     28.0    116.0   \n",
       "3                ...                    83.0    13.0     23.0    103.0   \n",
       "4                ...                    72.0    22.0     29.0    107.0   \n",
       "\n",
       "   opp_ORB  opp_STL opp_PF  opp_TOV     opponent  \\\n",
       "0     10.0      4.0   13.0     20.0      Orlando   \n",
       "1     13.0     10.0   26.0     17.0      Indiana   \n",
       "2     18.0      8.0   23.0     19.0  LA Clippers   \n",
       "3     10.0     11.0   21.0     16.0    LA Lakers   \n",
       "4      5.0     10.0   21.0     18.0      Chicago   \n",
       "\n",
       "                            Game_Id  \n",
       "0        10/29/2013_Indiana_Orlando  \n",
       "1        10/29/2013_Indiana_Orlando  \n",
       "2  10/29/2013_LA Lakers_LA Clippers  \n",
       "3  10/29/2013_LA Lakers_LA Clippers  \n",
       "4          10/29/2013_Miami_Chicago  \n",
       "\n",
       "[5 rows x 33 columns]"
      ]
     },
     "execution_count": 57,
     "metadata": {},
     "output_type": "execute_result"
    }
   ],
   "source": [
    "team_data.head()"
   ]
  },
  {
   "cell_type": "code",
   "execution_count": null,
   "metadata": {
    "collapsed": true
   },
   "outputs": [],
   "source": []
  }
 ],
 "metadata": {
  "kernelspec": {
   "display_name": "Python 2",
   "language": "python",
   "name": "python2"
  },
  "language_info": {
   "codemirror_mode": {
    "name": "ipython",
    "version": 2
   },
   "file_extension": ".py",
   "mimetype": "text/x-python",
   "name": "python",
   "nbconvert_exporter": "python",
   "pygments_lexer": "ipython2",
   "version": "2.7.13"
  }
 },
 "nbformat": 4,
 "nbformat_minor": 2
}
