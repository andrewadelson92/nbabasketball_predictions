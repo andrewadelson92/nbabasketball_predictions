{
 "cells": [
  {
   "cell_type": "code",
   "execution_count": 47,
   "metadata": {
    "collapsed": false
   },
   "outputs": [],
   "source": [
    "import pandas as pd"
   ]
  },
  {
   "cell_type": "code",
   "execution_count": 59,
   "metadata": {
    "collapsed": false
   },
   "outputs": [],
   "source": [
    "##read in all the player data for the 2016-2017 NBA regular season\n",
    "total_data = pd.read_csv('nba_2013_2014')\n"
   ]
  },
  {
   "cell_type": "code",
   "execution_count": 63,
   "metadata": {
    "collapsed": false
   },
   "outputs": [],
   "source": [
    "##concatenate all the data into one big frame EXCLUDING the playoffs\n",
    "total_data = total_data.iloc[0:31380]"
   ]
  },
  {
   "cell_type": "code",
   "execution_count": 64,
   "metadata": {
    "collapsed": true
   },
   "outputs": [],
   "source": [
    "##drop unnecessary column\n",
    "total_data.drop('Unnamed: 0',axis=1,inplace=True)"
   ]
  },
  {
   "cell_type": "code",
   "execution_count": 66,
   "metadata": {
    "collapsed": false
   },
   "outputs": [],
   "source": [
    "##convert to numpy array to create features I need\n",
    "array = total_data.as_matrix()\n",
    "\n",
    "\n",
    "##this corrected my game ids. I scraped incorrectly.\n",
    "##I had both '10/25/2016_Cleveland_New York' and '10/25/2016_New York_Cleveland'\n",
    "ids = '10/29/2013_Indiana_Orlando'\n",
    "sets = ['10/29/2013','Indiana','Orlando']\n",
    "for i in range(len(array)):\n",
    "    set_row = array[i][10].split('_')\n",
    "    if set(set_row)==set(sets):\n",
    "        array[i][10] = ids\n",
    "    else:\n",
    "        sets = set(set_row)\n",
    "        ids = array[i][10]"
   ]
  },
  {
   "cell_type": "code",
   "execution_count": 68,
   "metadata": {
    "collapsed": false
   },
   "outputs": [],
   "source": [
    "##convert back into a pandas dataframe\n",
    "total_data = pd.DataFrame(array,columns=total_data.columns)\n",
    "        "
   ]
  },
  {
   "cell_type": "code",
   "execution_count": 69,
   "metadata": {
    "collapsed": false
   },
   "outputs": [],
   "source": [
    "##create a is_home feature\n",
    "def home(row):\n",
    "    return row['Game_Id'].split('_')[1]\n",
    "total_data['Home_team'] = total_data.apply(home,axis=1)\n",
    "total_data['is_Home']=total_data['Home_team'] ==total_data['Team']\n",
    "total_data.drop('Home_team',axis=1,inplace=True)"
   ]
  },
  {
   "cell_type": "code",
   "execution_count": 70,
   "metadata": {
    "collapsed": false
   },
   "outputs": [],
   "source": [
    "##convert result column to a boolean Team_Win\n",
    "total_data['Team_Win'] = total_data['result'].map({'loser':0,'winner':1})\n",
    "total_data.drop('result',axis=1, inplace=True)"
   ]
  },
  {
   "cell_type": "code",
   "execution_count": 71,
   "metadata": {
    "collapsed": false
   },
   "outputs": [],
   "source": [
    "##convert other booleans to ints\n",
    "total_data['started']= total_data['started'].apply(int)\n",
    "total_data['is_Home']= total_data['is_Home'].apply(int)"
   ]
  },
  {
   "cell_type": "code",
   "execution_count": 72,
   "metadata": {
    "collapsed": false
   },
   "outputs": [],
   "source": [
    "##export the resulting data to a csv file\n",
    "total_data.to_csv('Nba_player_data_2013.csv')"
   ]
  }
 ],
 "metadata": {
  "kernelspec": {
   "display_name": "Python 2",
   "language": "python",
   "name": "python2"
  },
  "language_info": {
   "codemirror_mode": {
    "name": "ipython",
    "version": 2
   },
   "file_extension": ".py",
   "mimetype": "text/x-python",
   "name": "python",
   "nbconvert_exporter": "python",
   "pygments_lexer": "ipython2",
   "version": "2.7.13"
  }
 },
 "nbformat": 4,
 "nbformat_minor": 2
}
