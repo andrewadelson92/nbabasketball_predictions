{
 "cells": [
  {
   "cell_type": "code",
   "execution_count": 47,
   "metadata": {
    "collapsed": false
   },
   "outputs": [],
   "source": [
    "import pandas as pd"
   ]
  },
  {
   "cell_type": "code",
   "execution_count": 59,
   "metadata": {
    "collapsed": false
   },
   "outputs": [],
   "source": [
    "##read in all the player data for the 2016-2017 NBA regular season\n",
    "total_data = pd.read_csv('nba_2013_2014')\n"
   ]
  },
  {
   "cell_type": "code",
   "execution_count": 63,
   "metadata": {
    "collapsed": false
   },
   "outputs": [],
   "source": [
    "##concatenate all the data into one big frame\n",
    "total_data = total_data.iloc[0:31380]"
   ]
  },
  {
   "cell_type": "code",
   "execution_count": 44,
   "metadata": {
    "collapsed": false
   },
   "outputs": [
    {
     "data": {
      "text/html": [
       "<div>\n",
       "<table border=\"1\" class=\"dataframe\">\n",
       "  <thead>\n",
       "    <tr style=\"text-align: right;\">\n",
       "      <th></th>\n",
       "      <th>+/1</th>\n",
       "      <th>3P</th>\n",
       "      <th>3PA</th>\n",
       "      <th>AST</th>\n",
       "      <th>BLK</th>\n",
       "      <th>Date</th>\n",
       "      <th>FG</th>\n",
       "      <th>FGA</th>\n",
       "      <th>FT</th>\n",
       "      <th>FTA</th>\n",
       "      <th>...</th>\n",
       "      <th>TOV</th>\n",
       "      <th>TRB</th>\n",
       "      <th>Team</th>\n",
       "      <th>minutes</th>\n",
       "      <th>name</th>\n",
       "      <th>opp_score</th>\n",
       "      <th>started</th>\n",
       "      <th>team_score</th>\n",
       "      <th>is_Home</th>\n",
       "      <th>Team_Win</th>\n",
       "    </tr>\n",
       "  </thead>\n",
       "  <tbody>\n",
       "    <tr>\n",
       "      <th>31375</th>\n",
       "      <td>1</td>\n",
       "      <td>2</td>\n",
       "      <td>3</td>\n",
       "      <td>0</td>\n",
       "      <td>1</td>\n",
       "      <td>4/16/2014</td>\n",
       "      <td>2</td>\n",
       "      <td>5</td>\n",
       "      <td>0</td>\n",
       "      <td>0</td>\n",
       "      <td>...</td>\n",
       "      <td>0</td>\n",
       "      <td>8</td>\n",
       "      <td>San Antonio</td>\n",
       "      <td>16:45</td>\n",
       "      <td>Matt Bonner</td>\n",
       "      <td>113</td>\n",
       "      <td>0</td>\n",
       "      <td>100</td>\n",
       "      <td>1</td>\n",
       "      <td>0</td>\n",
       "    </tr>\n",
       "    <tr>\n",
       "      <th>31376</th>\n",
       "      <td>-5</td>\n",
       "      <td>0</td>\n",
       "      <td>0</td>\n",
       "      <td>4</td>\n",
       "      <td>0</td>\n",
       "      <td>4/16/2014</td>\n",
       "      <td>0</td>\n",
       "      <td>4</td>\n",
       "      <td>0</td>\n",
       "      <td>0</td>\n",
       "      <td>...</td>\n",
       "      <td>1</td>\n",
       "      <td>3</td>\n",
       "      <td>San Antonio</td>\n",
       "      <td>16:45</td>\n",
       "      <td>Boris Diaw</td>\n",
       "      <td>113</td>\n",
       "      <td>0</td>\n",
       "      <td>100</td>\n",
       "      <td>1</td>\n",
       "      <td>0</td>\n",
       "    </tr>\n",
       "    <tr>\n",
       "      <th>31377</th>\n",
       "      <td>3</td>\n",
       "      <td>1</td>\n",
       "      <td>3</td>\n",
       "      <td>1</td>\n",
       "      <td>0</td>\n",
       "      <td>4/16/2014</td>\n",
       "      <td>4</td>\n",
       "      <td>9</td>\n",
       "      <td>0</td>\n",
       "      <td>0</td>\n",
       "      <td>...</td>\n",
       "      <td>1</td>\n",
       "      <td>2</td>\n",
       "      <td>San Antonio</td>\n",
       "      <td>14:11</td>\n",
       "      <td>Patty Mills</td>\n",
       "      <td>113</td>\n",
       "      <td>0</td>\n",
       "      <td>100</td>\n",
       "      <td>1</td>\n",
       "      <td>0</td>\n",
       "    </tr>\n",
       "    <tr>\n",
       "      <th>31378</th>\n",
       "      <td>-4</td>\n",
       "      <td>1</td>\n",
       "      <td>2</td>\n",
       "      <td>0</td>\n",
       "      <td>0</td>\n",
       "      <td>4/16/2014</td>\n",
       "      <td>4</td>\n",
       "      <td>6</td>\n",
       "      <td>4</td>\n",
       "      <td>6</td>\n",
       "      <td>...</td>\n",
       "      <td>1</td>\n",
       "      <td>2</td>\n",
       "      <td>San Antonio</td>\n",
       "      <td>14:10</td>\n",
       "      <td>Austin Daye</td>\n",
       "      <td>113</td>\n",
       "      <td>0</td>\n",
       "      <td>100</td>\n",
       "      <td>1</td>\n",
       "      <td>0</td>\n",
       "    </tr>\n",
       "    <tr>\n",
       "      <th>31379</th>\n",
       "      <td>-2</td>\n",
       "      <td>0</td>\n",
       "      <td>0</td>\n",
       "      <td>1</td>\n",
       "      <td>0</td>\n",
       "      <td>4/16/2014</td>\n",
       "      <td>0</td>\n",
       "      <td>2</td>\n",
       "      <td>0</td>\n",
       "      <td>0</td>\n",
       "      <td>...</td>\n",
       "      <td>0</td>\n",
       "      <td>0</td>\n",
       "      <td>San Antonio</td>\n",
       "      <td>12:00</td>\n",
       "      <td>Damion James</td>\n",
       "      <td>113</td>\n",
       "      <td>0</td>\n",
       "      <td>100</td>\n",
       "      <td>1</td>\n",
       "      <td>0</td>\n",
       "    </tr>\n",
       "  </tbody>\n",
       "</table>\n",
       "<p>5 rows × 26 columns</p>\n",
       "</div>"
      ],
      "text/plain": [
       "      +/1 3P 3PA AST BLK       Date FG FGA FT FTA   ...    TOV TRB  \\\n",
       "31375   1  2   3   0   1  4/16/2014  2   5  0   0   ...      0   8   \n",
       "31376  -5  0   0   4   0  4/16/2014  0   4  0   0   ...      1   3   \n",
       "31377   3  1   3   1   0  4/16/2014  4   9  0   0   ...      1   2   \n",
       "31378  -4  1   2   0   0  4/16/2014  4   6  4   6   ...      1   2   \n",
       "31379  -2  0   0   1   0  4/16/2014  0   2  0   0   ...      0   0   \n",
       "\n",
       "              Team minutes          name opp_score started team_score is_Home  \\\n",
       "31375  San Antonio   16:45   Matt Bonner       113       0        100       1   \n",
       "31376  San Antonio   16:45    Boris Diaw       113       0        100       1   \n",
       "31377  San Antonio   14:11   Patty Mills       113       0        100       1   \n",
       "31378  San Antonio   14:10   Austin Daye       113       0        100       1   \n",
       "31379  San Antonio   12:00  Damion James       113       0        100       1   \n",
       "\n",
       "      Team_Win  \n",
       "31375        0  \n",
       "31376        0  \n",
       "31377        0  \n",
       "31378        0  \n",
       "31379        0  \n",
       "\n",
       "[5 rows x 26 columns]"
      ]
     },
     "execution_count": 44,
     "metadata": {},
     "output_type": "execute_result"
    }
   ],
   "source": [
    "total_data.tail()"
   ]
  },
  {
   "cell_type": "code",
   "execution_count": 64,
   "metadata": {
    "collapsed": true
   },
   "outputs": [],
   "source": [
    "##drop unnecessary column\n",
    "total_data.drop('Unnamed: 0',axis=1,inplace=True)"
   ]
  },
  {
   "cell_type": "code",
   "execution_count": 65,
   "metadata": {
    "collapsed": false
   },
   "outputs": [
    {
     "data": {
      "text/plain": [
       "0    10/29/2013_Indiana_Orlando\n",
       "1    10/29/2013_Indiana_Orlando\n",
       "2    10/29/2013_Indiana_Orlando\n",
       "3    10/29/2013_Indiana_Orlando\n",
       "4    10/29/2013_Indiana_Orlando\n",
       "Name: Game_Id, dtype: object"
      ]
     },
     "execution_count": 65,
     "metadata": {},
     "output_type": "execute_result"
    }
   ],
   "source": [
    "total_data['Game_Id'].head()"
   ]
  },
  {
   "cell_type": "code",
   "execution_count": 66,
   "metadata": {
    "collapsed": false
   },
   "outputs": [],
   "source": [
    "##convert to numpy array to create features I need\n",
    "array = total_data.as_matrix()\n"
   ]
  },
  {
   "cell_type": "code",
   "execution_count": 67,
   "metadata": {
    "collapsed": false
   },
   "outputs": [],
   "source": [
    "##this corrected my game ids. I scraped incorrectly.\n",
    "##I had both '10/25/2016_Cleveland_New York' and '10/25/2016_New York_Cleveland'\n",
    "ids = '10/29/2013_Indiana_Orlando'\n",
    "sets = ['10/29/2013','Indian','Orlando']\n",
    "for i in range(len(array)):\n",
    "    set_row = array[i][10].split('_')\n",
    "    if set(set_row)==set(sets):\n",
    "        array[i][10] = ids\n",
    "    else:\n",
    "        sets = set(set_row)\n",
    "        ids = array[i][10]"
   ]
  },
  {
   "cell_type": "code",
   "execution_count": 68,
   "metadata": {
    "collapsed": false
   },
   "outputs": [],
   "source": [
    "##convert back into a pandas dataframe\n",
    "total_data = pd.DataFrame(array,columns=total_data.columns)\n",
    "        "
   ]
  },
  {
   "cell_type": "code",
   "execution_count": 69,
   "metadata": {
    "collapsed": false
   },
   "outputs": [],
   "source": [
    "##create a is_home feature\n",
    "def home(row):\n",
    "    return row['Game_Id'].split('_')[1]\n",
    "total_data['Home_team'] = total_data.apply(home,axis=1)\n",
    "total_data['is_Home']=total_data['Home_team'] ==total_data['Team']\n",
    "total_data.drop('Home_team',axis=1,inplace=True)"
   ]
  },
  {
   "cell_type": "code",
   "execution_count": 70,
   "metadata": {
    "collapsed": false
   },
   "outputs": [],
   "source": [
    "##convert result column to a boolean Team_Win\n",
    "total_data['Team_Win'] = total_data['result'].map({'loser':0,'winner':1})\n",
    "total_data.drop('result',axis=1, inplace=True)"
   ]
  },
  {
   "cell_type": "code",
   "execution_count": 71,
   "metadata": {
    "collapsed": false
   },
   "outputs": [],
   "source": [
    "##convert other booleans to ints\n",
    "total_data['started']= total_data['started'].apply(int)\n",
    "total_data['is_Home']= total_data['is_Home'].apply(int)"
   ]
  },
  {
   "cell_type": "code",
   "execution_count": 72,
   "metadata": {
    "collapsed": false
   },
   "outputs": [],
   "source": [
    "##export the resulting data to a csv file\n",
    "total_data.to_csv('Nba_player_data_2013.csv')"
   ]
  },
  {
   "cell_type": "code",
   "execution_count": null,
   "metadata": {
    "collapsed": true
   },
   "outputs": [],
   "source": []
  }
 ],
 "metadata": {
  "kernelspec": {
   "display_name": "Python 2",
   "language": "python",
   "name": "python2"
  },
  "language_info": {
   "codemirror_mode": {
    "name": "ipython",
    "version": 2
   },
   "file_extension": ".py",
   "mimetype": "text/x-python",
   "name": "python",
   "nbconvert_exporter": "python",
   "pygments_lexer": "ipython2",
   "version": "2.7.13"
  }
 },
 "nbformat": 4,
 "nbformat_minor": 2
}
