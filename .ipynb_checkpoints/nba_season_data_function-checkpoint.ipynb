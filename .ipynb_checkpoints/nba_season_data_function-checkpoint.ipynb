{
 "cells": [
  {
   "cell_type": "code",
   "execution_count": 1,
   "metadata": {
    "collapsed": true
   },
   "outputs": [],
   "source": [
    "import requests\n",
    "from bs4 import BeautifulSoup\n",
    "import pandas as pd"
   ]
  },
  {
   "cell_type": "code",
   "execution_count": 83,
   "metadata": {
    "collapsed": false
   },
   "outputs": [],
   "source": [
    "def boxes(year):\n",
    "    ##return all the stats from one month\n",
    "    box = []\n",
    "    months = [str(i) for i in range(1,12)]\n",
    "    days = [str(i) for i in range(1,32)]\n",
    "    for month in months:\n",
    "        for day in days:\n",
    "            response = requests.get('http://www.basketball-reference.com/boxscores/?month={0}&day={1}&year={2}'.format(month,day,year))\n",
    "            soup = BeautifulSoup(response.content, 'lxml')\n",
    "            tables = soup.find_all('div',{'class':'game_summary expanded nohover'})\n",
    "            for table in tables:\n",
    "                teams = {}\n",
    "                teams['away'] = table.find_all('table')[1].find('tbody').find_all('tr')[0].find('td').text\n",
    "                teams['away_score'] = table.find('table').find_all('tr')[0].find_all('td')[1].text\n",
    "                teams['home'] = table.find_all('table')[1].find('tbody').find_all('tr')[1].find('td').text\n",
    "                teams['home_score'] = table.find('table').find_all('tr')[1].find_all('td')[1].text\n",
    "                teams['away_r'] = table.find('table').find('tr')['class'][0]\n",
    "                teams['home_r'] = table.find('table').find_all('tr')[1]['class'][0]\n",
    "                response = requests.get('http://www.basketball-reference.com{0}'.format(table.find('p').find('a')['href']))\n",
    "                soup = BeautifulSoup(response.content, 'lxml')\n",
    "                for i, athlete in enumerate(soup.find_all('table')[0].find('tbody').find_all('tr')):\n",
    "                    if athlete.find('th').text.strip() not in [\"Reserves\",\"Team Totals\"]:\n",
    "                        player = {}\n",
    "                        player['name'] = athlete.find('th').text\n",
    "                        cells = athlete.find_all('td')\n",
    "                        player['minutes'] = 'DNP'\n",
    "                        player['team_score']=teams['away_score']\n",
    "                        player['opp_score']=teams['home_score']\n",
    "                        player['Team'] = teams['away']\n",
    "                        player['Date'] = month + '/'+day+'/'+year\n",
    "                        player['Opponent'] = teams['home']\n",
    "                        player['Game_Id'] = player['Date'] + '_'+player['Opponent']+'_'+player['Team']\n",
    "                        player['result'] = teams['away_r']\n",
    "                        player['started']=False\n",
    "                        if len(cells)>1:\n",
    "                            player['minutes'] = cells[0].text\n",
    "                            player['FG'] = cells[1].text\n",
    "                            player['FGA'] = cells[2].text\n",
    "                            player['3P'] = cells[4].text\n",
    "                            player['3PA'] = cells[5].text\n",
    "                            player['FT'] = cells[7].text\n",
    "                            player['FTA'] = cells[8].text\n",
    "                            player['ORB'] = cells[10].text\n",
    "                            player['TRB'] = cells[12].text\n",
    "                            player['AST'] = cells[13].text\n",
    "                            player['STL'] = cells[14].text\n",
    "                            player['BLK'] = cells[15].text\n",
    "                            player['TOV'] = cells[16].text\n",
    "                            player['PF'] = cells[17].text\n",
    "                            player['PTS'] = cells[18].text\n",
    "                            player['+/1'] = cells[19].text\n",
    "                            if i<5:\n",
    "                                player['started']=True\n",
    "                        box.append(player)\n",
    "                for i, athlete in enumerate(soup.find_all('table')[2].find('tbody').find_all('tr')):\n",
    "                    if athlete.find('th').text.strip() not in [\"Reserves\",\"Team Totals\"]:\n",
    "                        player = {}\n",
    "                        player['name'] = athlete.find('th').text\n",
    "                        cells = athlete.find_all('td')\n",
    "                        player['team_score']=teams['home_score']\n",
    "                        player['opp_score']=teams['away_score']\n",
    "                        player['minutes'] = 'DNP'\n",
    "                        player['Team'] = teams['home']\n",
    "                        player['Date'] = month + '/'+day+'/'+year\n",
    "                        player['Opponent'] = teams['away']\n",
    "                        player['Game_Id'] = player['Date'] + '_'+player['Opponent']+'_'+player['Team']\n",
    "                        player['result'] = teams['home_r']\n",
    "                        player['started']=False\n",
    "                        if len(cells)>1:\n",
    "                            player['minutes'] = cells[0].text\n",
    "                            player['FG'] = cells[1].text\n",
    "                            player['FGA'] = cells[2].text\n",
    "                            player['3P'] = cells[4].text\n",
    "                            player['3PA'] = cells[5].text\n",
    "                            player['FT'] = cells[7].text\n",
    "                            player['FTA'] = cells[8].text\n",
    "                            player['ORB'] = cells[10].text\n",
    "                            player['TRB'] = cells[12].text\n",
    "                            player['AST'] = cells[13].text\n",
    "                            player['STL'] = cells[14].text\n",
    "                            player['BLK'] = cells[15].text\n",
    "                            player['TOV'] = cells[16].text\n",
    "                            player['PF'] = cells[17].text\n",
    "                            player['PTS'] = cells[18].text\n",
    "                            player['+/1'] = cells[19].text\n",
    "                            if i<5:\n",
    "                                player['started']=True\n",
    "                        box.append(player)\n",
    "    return pd.DataFrame(box)\n"
   ]
  },
  {
   "cell_type": "code",
   "execution_count": 16,
   "metadata": {
    "collapsed": false
   },
   "outputs": [],
   "source": []
  }
 ],
 "metadata": {
  "kernelspec": {
   "display_name": "Python 2",
   "language": "python",
   "name": "python2"
  },
  "language_info": {
   "codemirror_mode": {
    "name": "ipython",
    "version": 2
   },
   "file_extension": ".py",
   "mimetype": "text/x-python",
   "name": "python",
   "nbconvert_exporter": "python",
   "pygments_lexer": "ipython2",
   "version": "2.7.13"
  }
 },
 "nbformat": 4,
 "nbformat_minor": 2
}
