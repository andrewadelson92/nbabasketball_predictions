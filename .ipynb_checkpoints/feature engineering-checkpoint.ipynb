{
 "cells": [
  {
   "cell_type": "code",
   "execution_count": 2,
   "metadata": {
    "collapsed": true
   },
   "outputs": [],
   "source": [
    "import pandas as pd\n",
    "import numpy as np"
   ]
  },
  {
   "cell_type": "code",
   "execution_count": 3,
   "metadata": {
    "collapsed": false
   },
   "outputs": [],
   "source": [
    "players= pd.read_csv('NBA_player_data_2016.csv')"
   ]
  },
  {
   "cell_type": "code",
   "execution_count": 4,
   "metadata": {
    "collapsed": true
   },
   "outputs": [],
   "source": [
    "teams = pd.read_csv('team_boxscores_2016.csv')"
   ]
  },
  {
   "cell_type": "code",
   "execution_count": 5,
   "metadata": {
    "collapsed": false
   },
   "outputs": [],
   "source": [
    "teams.drop('Unnamed: 0', inplace=True,axis=1)\n",
    "players.drop('Unnamed: 0', inplace=True,axis=1)"
   ]
  },
  {
   "cell_type": "code",
   "execution_count": 6,
   "metadata": {
    "collapsed": false
   },
   "outputs": [],
   "source": [
    "teams['Date']=teams['Game_Id'].apply(lambda x: x.split('_')[0])"
   ]
  },
  {
   "cell_type": "code",
   "execution_count": 7,
   "metadata": {
    "collapsed": false
   },
   "outputs": [],
   "source": [
    "teams['Date'] = pd.to_datetime(teams['Date'])"
   ]
  },
  {
   "cell_type": "code",
   "execution_count": 8,
   "metadata": {
    "collapsed": false
   },
   "outputs": [],
   "source": [
    "matrix = teams.as_matrix()"
   ]
  },
  {
   "cell_type": "code",
   "execution_count": 9,
   "metadata": {
    "collapsed": false
   },
   "outputs": [],
   "source": [
    "clubs = []\n",
    "for el in matrix:\n",
    "    clubs.append(el[16])\n",
    "clubs = list(set(clubs))"
   ]
  },
  {
   "cell_type": "code",
   "execution_count": 10,
   "metadata": {
    "collapsed": false
   },
   "outputs": [
    {
     "data": {
      "text/plain": [
       "['Dallas',\n",
       " 'Minnesota',\n",
       " 'Denver',\n",
       " 'Indiana',\n",
       " 'Golden State',\n",
       " 'Phoenix',\n",
       " 'Sacramento',\n",
       " 'Chicago',\n",
       " 'Utah',\n",
       " 'Brooklyn',\n",
       " 'New Orleans',\n",
       " 'Atlanta',\n",
       " 'Memphis',\n",
       " 'San Antonio',\n",
       " 'Toronto',\n",
       " 'LA Lakers',\n",
       " 'Charlotte',\n",
       " 'Miami',\n",
       " 'LA Clippers',\n",
       " 'Orlando',\n",
       " 'Detroit',\n",
       " 'Philadelphia',\n",
       " 'Portland',\n",
       " 'Houston',\n",
       " 'Boston',\n",
       " 'Washington',\n",
       " 'New York',\n",
       " 'Cleveland',\n",
       " 'Milwaukee',\n",
       " 'Oklahoma City']"
      ]
     },
     "execution_count": 10,
     "metadata": {},
     "output_type": "execute_result"
    }
   ],
   "source": [
    "clubs"
   ]
  },
  {
   "cell_type": "code",
   "execution_count": 12,
   "metadata": {
    "collapsed": false
   },
   "outputs": [],
   "source": [
    "last_date = {}\n",
    "for team in clubs:\n",
    "    last_date[team]=0\n"
   ]
  },
  {
   "cell_type": "code",
   "execution_count": null,
   "metadata": {
    "collapsed": false
   },
   "outputs": [],
   "source": []
  },
  {
   "cell_type": "code",
   "execution_count": 13,
   "metadata": {
    "collapsed": false
   },
   "outputs": [],
   "source": [
    "new_matrix = []\n",
    "for row in matrix:\n",
    "    row = list(row)\n",
    "    if last_date[row[16]] == 0:\n",
    "        row.append(np.nan)\n",
    "    else:\n",
    "        row.append((row[32]-last_date[row[16]]).days)\n",
    "    new_matrix.append(row)\n",
    "    last_date[row[16]] = row[32]"
   ]
  },
  {
   "cell_type": "code",
   "execution_count": 14,
   "metadata": {
    "collapsed": false
   },
   "outputs": [],
   "source": [
    "columns = ['3P', '3PA', 'AST', 'BLK', 'FG', 'FGA', 'FT', 'FTA', 'ORB', 'PF',\n",
    "       'PTS', 'STL', 'TOV', 'TRB', 'is_Home', 'Team_Win', 'Team', 'opp_3P',\n",
    "       'opp_3PA', 'opp_AST', 'opp_BLK', 'opp_FG', 'opp_FGA', 'opp_FT',\n",
    "       'opp_FTA', 'opp_PTS', 'opp_ORB', 'opp_STL', 'opp_PF', 'opp_TOV',\n",
    "       'opponent', 'Game_Id', 'Date','Days_Since']"
   ]
  },
  {
   "cell_type": "code",
   "execution_count": 15,
   "metadata": {
    "collapsed": false
   },
   "outputs": [],
   "source": [
    "df = pd.DataFrame(new_matrix,columns = columns)"
   ]
  },
  {
   "cell_type": "code",
   "execution_count": 17,
   "metadata": {
    "collapsed": false
   },
   "outputs": [
    {
     "data": {
      "text/plain": [
       "['Dallas',\n",
       " 'Minnesota',\n",
       " 'Denver',\n",
       " 'Indiana',\n",
       " 'Golden State',\n",
       " 'Phoenix',\n",
       " 'Sacramento',\n",
       " 'Chicago',\n",
       " 'Utah',\n",
       " 'Brooklyn',\n",
       " 'New Orleans',\n",
       " 'Atlanta',\n",
       " 'Memphis',\n",
       " 'San Antonio',\n",
       " 'Toronto',\n",
       " 'LA Lakers',\n",
       " 'Charlotte',\n",
       " 'Miami',\n",
       " 'LA Clippers',\n",
       " 'Orlando',\n",
       " 'Detroit',\n",
       " 'Philadelphia',\n",
       " 'Portland',\n",
       " 'Houston',\n",
       " 'Boston',\n",
       " 'Washington',\n",
       " 'New York',\n",
       " 'Cleveland',\n",
       " 'Milwaukee',\n",
       " 'Oklahoma City']"
      ]
     },
     "execution_count": 17,
     "metadata": {},
     "output_type": "execute_result"
    }
   ],
   "source": [
    "clubs"
   ]
  },
  {
   "cell_type": "code",
   "execution_count": null,
   "metadata": {
    "collapsed": false
   },
   "outputs": [],
   "source": [
    "time_zone_dict = {}\n",
    "for team in clubs:\n",
    "    time_zone_dict[team]=0\n",
    "for team in clubs:\n",
    "    if team in ['Phoenix','Denver', 'Utah']:\n",
    "        time_zone_dict[team]+= 1\n",
    "    elif team in ['Chicago','Oklahoma City','Milwaukee','']"
   ]
  }
 ],
 "metadata": {
  "kernelspec": {
   "display_name": "Python 2",
   "language": "python",
   "name": "python2"
  }
 },
 "nbformat": 4,
 "nbformat_minor": 2
}
